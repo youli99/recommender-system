{
 "cells": [
  {
   "cell_type": "code",
   "execution_count": null,
   "id": "7c24dd93",
   "metadata": {},
   "outputs": [],
   "source": [
    "from openai import OpenAI\n",
    "client = OpenAI(api_key=\"#####\")"
   ]
  },
  {
   "cell_type": "code",
   "execution_count": 2,
   "id": "aad13b5a",
   "metadata": {},
   "outputs": [],
   "source": [
    "import pandas as pd\n",
    "import json"
   ]
  },
  {
   "cell_type": "code",
   "execution_count": 3,
   "id": "9bdad6fd",
   "metadata": {},
   "outputs": [
    {
     "data": {
      "application/vnd.microsoft.datawrangler.viewer.v0+json": {
       "columns": [
        {
         "name": "index",
         "rawType": "int64",
         "type": "integer"
        },
        {
         "name": "Title",
         "rawType": "object",
         "type": "string"
        },
        {
         "name": "Author",
         "rawType": "object",
         "type": "unknown"
        },
        {
         "name": "ISBN Valid",
         "rawType": "object",
         "type": "unknown"
        },
        {
         "name": "Publisher",
         "rawType": "object",
         "type": "unknown"
        },
        {
         "name": "Subjects",
         "rawType": "object",
         "type": "unknown"
        },
        {
         "name": "i",
         "rawType": "int64",
         "type": "integer"
        }
       ],
       "conversionMethod": "pd.DataFrame",
       "ref": "a66e6ccf-1924-4290-b019-c9b85e62a7bf",
       "rows": [
        [
         "0",
         "Classification décimale universelle : édition abrégée",
         null,
         "9782871303336; 2871303339",
         "Ed du CEFAL",
         "Classification décimale universelle; Indexation (documentation); classification décimale universelle--[tables]; Book Classification; Reference Books; Outline",
         "0"
        ],
        [
         "1",
         "Les interactions dans l'enseignement des langues : agir professoral et pratiques de classe",
         "Cicurel, Francine, 1947-",
         "9782278058327; 2278058320",
         "Didier",
         "didactique--langue étrangère - enseignement; didactique--langue - enseignement",
         "1"
        ],
        [
         "2",
         "Histoire de vie et recherche biographique : perspectives sociohistoriques",
         null,
         "2343190194; 9782343190198",
         "L'Harmattan",
         "Histoires de vie en sociologie; Sciences sociales--Méthodologie; Actes de congrès",
         "2"
        ],
        [
         "3",
         "Ce livre devrait me permettre de résoudre le conflit au Proche-Orient, d'avoir mon diplôme, et de trouver une femme",
         "Mazas, Sylvain, 1980-",
         "9782365350020; 236535002X; 9782365350488; 2365350488",
         "Vraoum!",
         "Moyen-Orient; Bandes dessinées autobiographiques; Bandes dessinées",
         "3"
        ],
        [
         "4",
         "Les années glorieuses : roman",
         "Lemaitre, Pierre, 1951-",
         "9782702180815; 2702180817; 9782702183618; 2702183611",
         "Calmann-Lévy",
         "France--1945-1975; Roman historique; Roman français; Littérature française",
         "4"
        ],
        [
         "5",
         "100 idées pour mieux gérer les troubles de l'attention",
         "Lussier, Francine",
         "9782353450428; 2353450423",
         "Tom Pousse",
         "Trouble déficitaire de l'attention avec ou sans hyperactivité; Enfants atteints de troubles de l'attention; Enfants hyperactifs; Guides pratiques",
         "5"
        ],
        [
         "6",
         "La boîte à outils des formateurs : 71 outils clés en main + 10 compléments en ligne + 1 podcast",
         "Bouchut, Fabienne",
         "9782100806614; 2100806610; 9782100846023; 2100846027",
         "Dunod",
         "Formateurs (éducation des adultes)--Formation.; Personnel--Formation.; Animateurs de formation.; Guides pratiques.",
         "6"
        ],
        [
         "7",
         "L'autorité éducative dans la classe : douze situations pour apprendre à l'exercer",
         "Robbes, Bruno",
         "9782710121152; 2710121158",
         "ESF éd",
         "autorité--relation maître-élève; autorité--enseignement primaire",
         "7"
        ],
        [
         "8",
         "Un autre regard sur le climat",
         "Emma dessinatrice 1981-....",
         "9791097160821",
         "Massot",
         "Climat--Détérioration; Bandes dessinées",
         "8"
        ],
        [
         "9",
         "Le mirage de la croissance verte",
         "Auffret, Anthony",
         "9782413043591; 2413043594",
         "Delcourt",
         "Développement économique--Aspect environnemental; Développement durable--Aspect environnemental; Bandes dessinées",
         "9"
        ],
        [
         "10",
         "Vieille fille : une proposition",
         "Kock, Marie",
         "9782348072765; 2348072769",
         "La Découverte",
         "Célibataires; Femmes; Jeunes femmes; Sociologie; Sexualité; [Récits personnels]",
         "10"
        ],
        [
         "11",
         "Rendre les élèves acteurs de leurs apprentissages",
         "Béal, Yves",
         "9782206013725; 220601372X",
         "Delagrave",
         "apprentissage (psychologie)--enfant; apprentissage (psychologie)--didactique--élève--enseignement",
         "11"
        ],
        [
         "12",
         "L'apprentissage par projets au secondaire : guide pratique pour planifier et réaliser des projets avec ses élèves",
         "Larmer, John",
         "9782765033202; 276503320X",
         "Chenelière éducation",
         "apprentissage (psychologie)--enseignement secondaire--pédagogie du projet; Enseignement - Méthode des projets; Enseignement secondaire; Méthodes actives; Enseignement en équipe; Enseignement - Travail de groupe",
         "12"
        ],
        [
         "13",
         "Pour une pédagogie du projet",
         "Bordalo, Isabelle",
         "9782011709219; 2011709210",
         "Hachette éducation",
         "Enseignement--Méthode des projets",
         "13"
        ],
        [
         "14",
         "Une classe qui coopère : pourquoi ? comment ?",
         "Staquet, Christian",
         "9782850084324; 2850084328",
         "Chronique sociale",
         "apprentissage (psychologie)--classe (enseignement)--coopération--élève",
         "14"
        ],
        [
         "15",
         "Penser le projet : concepts et outils d'une pédagogie émancipatrice",
         "Tilman, Francis",
         "2850085510; 9782850085512",
         "Chronique sociale",
         "pédagogie de la maîtrise",
         "15"
        ],
        [
         "16",
         "Pays-Bas",
         "Williams, Nicola",
         "9782816195590; 2816195597",
         "Lonely planet",
         "Pays-Bas; Guides touristiques et de visite",
         "16"
        ],
        [
         "17",
         "Amsterdam : balades urbaines",
         "Vanderhaeghe, Katherine",
         "9782016256336; 2016256338",
         "Hachette",
         "Amsterdam (Pays-Bas); Guides touristiques et de visite",
         "17"
        ],
        [
         "18",
         "Amsterdam : + Rotterdam, Delft et La Haye : 2024-2025",
         null,
         "9782017884026; 2017884022",
         "Hachette Livre",
         "Amsterdam (Pays-Bas); Amsterdam (Pays-Bas, région); Rotterdam (Pays-Bas); Delft (Pays-Bas); La Haye (Pays-Bas); [Guides touristiques et de visite]",
         "18"
        ],
        [
         "19",
         "Pays-Bas",
         null,
         "9782067257863; 2067257862",
         "Michelin",
         "Pays-Bas; Guides touristiques et de visite",
         "19"
        ],
        [
         "20",
         "Amsterdam",
         "Catling, Christopher",
         "9782822902526; 2822902526",
         "National geographic",
         "Amsterdam (Pays-Bas); [Guides touristiques et de visite]",
         "20"
        ],
        [
         "21",
         "Histoire des Etats-Unis",
         "Durpaire, François",
         "9782715413801; 2715413807",
         "Presses Universitaires de France",
         "États-Unis--Histoire",
         "21"
        ],
        [
         "22",
         "C'est psy ? Non, hormonal ! : comprendre ses hormones pour se sentir mieux",
         "Gluck, Marion",
         "9782035993250; 2035993253",
         "Larousse",
         "Santé mentale; Hormones femelles; Femmes--Santé et hygiène",
         "22"
        ],
        [
         "23",
         "C'est mon corps : toutes les questions que se posent les femmes sur leur santé",
         "Winckler, Martin",
         "9782378801267; 2378801262",
         "L'Iconoclaste",
         "Women's Health; Sexuality; Reproductive Physiological Phenomena; Contraception; Professional-Patient Relations; Sexualité féminine; Vie sexuelle--Femmes; Féminité; Femmes--Santé et hygiène; Gynécologie; Guides pratiques",
         "23"
        ],
        [
         "24",
         "Le sentiment de justice dans les relations sociales",
         "Kellerhals, Jean, 1941-",
         "2130486851; 9782130486855",
         "Presses universitaires de France",
         "justice--relations sociales; justice distributive--relations sociales; justice sociale; équité--groupe--justice--norme sociale",
         "24"
        ],
        [
         "25",
         "S'capade pédagogique avec les jeux d'évasion : apprendre grâce aux escape games : de la maternelle à la formation d'adultes",
         "Fenaert, Mélanie",
         "9782340035461; 2340035465",
         "Ellipses",
         "Gamification; Apprentissage par le jeu; Jeux éducatifs; Jeux d'évasion; [Guides pratiques]",
         "25"
        ],
        [
         "26",
         "Pays basque : France, Espagne et Navarre",
         null,
         "9782067253407; 2067253409",
         "Michelin",
         "Pays basque (Espagne); Navarre française (France); Navarre (Espagne); Pays basque (France); Guides touristiques et de visite",
         "26"
        ],
        [
         "27",
         "Le rapport de Brodeck",
         "Larcenet, Manu",
         "9782205073850; 2205073850; 9782205075403; 2205075403",
         null,
         "Bandes dessinées",
         "27"
        ],
        [
         "28",
         "Hanbok",
         "Darcq, Sophie, 1976-.....",
         "2367310254; 9782367310251",
         "L'Apocalypse",
         "Bandes dessinées; Adoption internationale--Bandes dessinées.; Récits de voyages français--Corée--2000-....; Bandes dessinées autobiographiques--France--2000-....; Bandes dessinées autobiographiques.",
         "28"
        ],
        [
         "29",
         "Philosophia : une histoire de la philosophie en BD",
         "Tenaillon, Nicolas",
         "9782340027787; 2340027780",
         "Ellipses",
         "Philosophes; Philosophie; Philosophie--Histoire; Bandes dessinées",
         "29"
        ],
        [
         "30",
         "Chaussettes : 20 modèles à tricoter toute l'année",
         "Laitinen, Niina 19..-....",
         "9782383381372; 2383381373",
         "La Plage",
         "Bas et chaussettes; Tricot--Modèles; Manuels d'amateurs",
         "30"
        ],
        [
         "31",
         "Tricoter ses chaussettes : les techniques pour débuter : [+ de 20 modèles pour se lancer]",
         "Johnson, Wendy",
         "9782212675504; 221267550X",
         "Eyrolles",
         "Bas et chaussettes--Tricot--Modèles; Guides pratiques",
         "31"
        ],
        [
         "32",
         "Le métier de sociologue : préalables épistémologiques",
         "Bourdieu, Pierre",
         "9782713228209; 2713228204",
         "Éditions EHESS",
         "Sociologues; Sociologie--Méthodologie; Sociologie--Pratique; Épistémologie de la sociologie; Sociology--Methodology; Sociologie--Méthodologie.",
         "32"
        ],
        [
         "33",
         "Le dahlia noir",
         "Matz",
         "9782203045682; 220304568X",
         "Payot & Rivages; Casterman",
         "Bandes dessinées",
         "33"
        ],
        [
         "34",
         "Le bleu est une couleur chaude",
         "Maroh, Julie",
         "9782723467834; 272346783X",
         "Glénat",
         "Homosexualité; Lesbianisme; Bandes dessinées",
         "34"
        ],
        [
         "35",
         "Dictionnaire de la pensée politique : idées, doctrines et philosophes",
         "Nay, Olivier 1968-....",
         "9782247060009; 2247060005",
         "Armand Colin",
         "Idées politiques; Philosophie politique; doctrine politique--[dictionnaire]; science politique--[dictionnaire]; philosophie politique--[dictionnaire]; Dictionnaires",
         "35"
        ],
        [
         "36",
         "Roger et ses humains",
         "Paka (1985-....)",
         "9782800164199; 2800164190; 9782800167299; 2800167297; 9791034743629",
         "Dupuis",
         "Robots; Ouvrages pour la jeunesse; Bandes dessinées",
         "36"
        ],
        [
         "37",
         "Simenon, l'Ostrogoth",
         "Bocquet, José-Louis",
         "9782505120094; 2505120099; 9782505120100; 2505120102; 9782505120117; 2505120110",
         "Dargaud",
         "Bandes dessinées; Simenon, Georges",
         "37"
        ],
        [
         "38",
         "Géostratégix",
         "Boniface, Pascal",
         "9782100830824; 2100830821; 9782100851140; 2100851144",
         "Dunod",
         "Géopolitique.; Relations internationales.; Bandes dessinées",
         "38"
        ],
        [
         "39",
         "Partir : sur les chemins de Compostelle",
         "Sohn, Lili",
         "9782203221918; 2203221917",
         "Casterman",
         "Chemins de Saint-Jacques",
         "39"
        ],
        [
         "40",
         "Peau d'homme",
         "Hubert, 1971-",
         "9782344010648; 2344010645",
         "Glénat",
         "Mariages royaux et nobles--Renaissance; Différences entre sexes; Bandes dessinées",
         "40"
        ],
        [
         "41",
         "Morgane",
         "Fert, Stéphane",
         "9782756070056; 275607005X",
         "Delcourt",
         "[Bandes dessinées]",
         "41"
        ],
        [
         "42",
         "Le monde de Sophie",
         "Zabus, Vincent 1971-....",
         "9782226475978; 2226475974; 9782226464378; 2226464379",
         "Albin Michel",
         "Philosophie; Bandes dessinées",
         "42"
        ],
        [
         "43",
         "Suisse",
         null,
         "9782067261730; 2067261738",
         "Michelin",
         "Suisse; Guides touristiques et de visite",
         "43"
        ],
        [
         "44",
         "Tokyo tarareba girls",
         "Higashimura, Akiko 1975",
         "9782353481903; 2353481906; 9782353481996; 235348199X; 9782353482009; 2353482007; 9782353482092; 2353482090; 9782353482191; 2353482198; 9782353482313; 2353482317; 9782353482467; 2353482465; 9782353482542; 2353482546; 9782353482573; 2353482570",
         "Le Lézard Noir",
         "Bandes dessinées; Mangas",
         "44"
        ],
        [
         "45",
         "Yotsuba & !",
         "Azuma, Kiyohiko",
         "9782351420713; 2351420713; 9782351420720; 2351420721; 9782351420737; 235142073X; 9782351420744; 2351420748; 9782351421536; 2351421531; 9782351422106; 2351422104; 9782351423448; 2351423445; 9782351423950; 235142395X; 9782351425374; 2351425375; 978235142660",
         "Kurokawa",
         "Mangas--Japon; Bandes dessinées; Ouvrages pour la jeunesse; Mangas",
         "45"
        ],
        [
         "46",
         "Le monde sans fin",
         "Jancovici, Jean-Marc",
         "9782205088168; 2205088165",
         "Dargaud",
         "Climate Change; Environmental Health; Environment and Public Health; Energy-Generating Resources; Graphic Novel; Changements climatiques; Changement global de l'environnement; Ressources énergétiques; Vulgarisation scientifique; Transition énergétique; Réchauffement de la Terre; Bandes dessinées",
         "46"
        ],
        [
         "47",
         "La Fille à la moto",
         "Suzuki, Ôji",
         "9782889231164; 288923116X",
         "Atrabile Editions",
         null,
         "47"
        ],
        [
         "48",
         "Seuls en exil",
         "Menor, Fabian",
         "9782940673773; 2940673772",
         "Helvetiq",
         "Immigrés--Suisse; Bandes dessinées",
         "48"
        ],
        [
         "49",
         "Coming in",
         "Font, Elodie",
         "9782228929097; 2228929093",
         "Arte Editions; Editions Payot & Rivages",
         "Homosexuality--psychology; Homosexuality, Female--psychology; Self Concept; Graphic Novel; Homosexualité; Coming out; Acceptation de soi; Lesbianisme; Lesbiennes; Romans graphiques",
         "49"
        ]
       ],
       "shape": {
        "columns": 6,
        "rows": 15291
       }
      },
      "text/html": [
       "<div>\n",
       "<style scoped>\n",
       "    .dataframe tbody tr th:only-of-type {\n",
       "        vertical-align: middle;\n",
       "    }\n",
       "\n",
       "    .dataframe tbody tr th {\n",
       "        vertical-align: top;\n",
       "    }\n",
       "\n",
       "    .dataframe thead th {\n",
       "        text-align: right;\n",
       "    }\n",
       "</style>\n",
       "<table border=\"1\" class=\"dataframe\">\n",
       "  <thead>\n",
       "    <tr style=\"text-align: right;\">\n",
       "      <th></th>\n",
       "      <th>Title</th>\n",
       "      <th>Author</th>\n",
       "      <th>ISBN Valid</th>\n",
       "      <th>Publisher</th>\n",
       "      <th>Subjects</th>\n",
       "      <th>i</th>\n",
       "    </tr>\n",
       "  </thead>\n",
       "  <tbody>\n",
       "    <tr>\n",
       "      <th>0</th>\n",
       "      <td>Classification décimale universelle : édition ...</td>\n",
       "      <td>NaN</td>\n",
       "      <td>9782871303336; 2871303339</td>\n",
       "      <td>Ed du CEFAL</td>\n",
       "      <td>Classification décimale universelle; Indexatio...</td>\n",
       "      <td>0</td>\n",
       "    </tr>\n",
       "    <tr>\n",
       "      <th>1</th>\n",
       "      <td>Les interactions dans l'enseignement des langu...</td>\n",
       "      <td>Cicurel, Francine, 1947-</td>\n",
       "      <td>9782278058327; 2278058320</td>\n",
       "      <td>Didier</td>\n",
       "      <td>didactique--langue étrangère - enseignement; d...</td>\n",
       "      <td>1</td>\n",
       "    </tr>\n",
       "    <tr>\n",
       "      <th>2</th>\n",
       "      <td>Histoire de vie et recherche biographique : pe...</td>\n",
       "      <td>NaN</td>\n",
       "      <td>2343190194; 9782343190198</td>\n",
       "      <td>L'Harmattan</td>\n",
       "      <td>Histoires de vie en sociologie; Sciences socia...</td>\n",
       "      <td>2</td>\n",
       "    </tr>\n",
       "    <tr>\n",
       "      <th>3</th>\n",
       "      <td>Ce livre devrait me permettre de résoudre le c...</td>\n",
       "      <td>Mazas, Sylvain, 1980-</td>\n",
       "      <td>9782365350020; 236535002X; 9782365350488; 2365...</td>\n",
       "      <td>Vraoum!</td>\n",
       "      <td>Moyen-Orient; Bandes dessinées autobiographiqu...</td>\n",
       "      <td>3</td>\n",
       "    </tr>\n",
       "    <tr>\n",
       "      <th>4</th>\n",
       "      <td>Les années glorieuses : roman</td>\n",
       "      <td>Lemaitre, Pierre, 1951-</td>\n",
       "      <td>9782702180815; 2702180817; 9782702183618; 2702...</td>\n",
       "      <td>Calmann-Lévy</td>\n",
       "      <td>France--1945-1975; Roman historique; Roman fra...</td>\n",
       "      <td>4</td>\n",
       "    </tr>\n",
       "    <tr>\n",
       "      <th>...</th>\n",
       "      <td>...</td>\n",
       "      <td>...</td>\n",
       "      <td>...</td>\n",
       "      <td>...</td>\n",
       "      <td>...</td>\n",
       "      <td>...</td>\n",
       "    </tr>\n",
       "    <tr>\n",
       "      <th>15286</th>\n",
       "      <td>Le vagabond de Tokyo</td>\n",
       "      <td>Fukutani, Takashi, 1952-2000</td>\n",
       "      <td>9782353480111; 235348011X; 9782353480241; 2353...</td>\n",
       "      <td>Le Lézard noir</td>\n",
       "      <td>Mangas</td>\n",
       "      <td>15286</td>\n",
       "    </tr>\n",
       "    <tr>\n",
       "      <th>15287</th>\n",
       "      <td>God of high school : le match contre les dieux</td>\n",
       "      <td>Park, Yong-Je</td>\n",
       "      <td>9782382880203; 2382880201; 9782382880210; 2382...</td>\n",
       "      <td>Kbooks</td>\n",
       "      <td>NaN</td>\n",
       "      <td>15287</td>\n",
       "    </tr>\n",
       "    <tr>\n",
       "      <th>15288</th>\n",
       "      <td>Blue Lock</td>\n",
       "      <td>Kaneshiro, Muneyuki</td>\n",
       "      <td>9782811650254; 2811650253; 9782811661274; 2811...</td>\n",
       "      <td>Pika</td>\n",
       "      <td>Compétitions; Football; Entraînement (sports);...</td>\n",
       "      <td>15288</td>\n",
       "    </tr>\n",
       "    <tr>\n",
       "      <th>15289</th>\n",
       "      <td>Red eyes sword : akame ga kill ! Zero</td>\n",
       "      <td>Takahiro</td>\n",
       "      <td>9782368522134; 2368522131; 9782368522141; 2368...</td>\n",
       "      <td>Kurokawa</td>\n",
       "      <td>Bandes dessinées; Mangas</td>\n",
       "      <td>15289</td>\n",
       "    </tr>\n",
       "    <tr>\n",
       "      <th>15290</th>\n",
       "      <td>Directives de projet applicables à l'étude et ...</td>\n",
       "      <td>NaN</td>\n",
       "      <td>NaN</td>\n",
       "      <td>Commune de Lausanne</td>\n",
       "      <td>école (bâtiment) - construction - planificatio...</td>\n",
       "      <td>15290</td>\n",
       "    </tr>\n",
       "  </tbody>\n",
       "</table>\n",
       "<p>15291 rows × 6 columns</p>\n",
       "</div>"
      ],
      "text/plain": [
       "                                                   Title  \\\n",
       "0      Classification décimale universelle : édition ...   \n",
       "1      Les interactions dans l'enseignement des langu...   \n",
       "2      Histoire de vie et recherche biographique : pe...   \n",
       "3      Ce livre devrait me permettre de résoudre le c...   \n",
       "4                          Les années glorieuses : roman   \n",
       "...                                                  ...   \n",
       "15286                               Le vagabond de Tokyo   \n",
       "15287     God of high school : le match contre les dieux   \n",
       "15288                                          Blue Lock   \n",
       "15289              Red eyes sword : akame ga kill ! Zero   \n",
       "15290  Directives de projet applicables à l'étude et ...   \n",
       "\n",
       "                             Author  \\\n",
       "0                               NaN   \n",
       "1          Cicurel, Francine, 1947-   \n",
       "2                               NaN   \n",
       "3             Mazas, Sylvain, 1980-   \n",
       "4           Lemaitre, Pierre, 1951-   \n",
       "...                             ...   \n",
       "15286  Fukutani, Takashi, 1952-2000   \n",
       "15287                 Park, Yong-Je   \n",
       "15288           Kaneshiro, Muneyuki   \n",
       "15289                      Takahiro   \n",
       "15290                           NaN   \n",
       "\n",
       "                                              ISBN Valid            Publisher  \\\n",
       "0                              9782871303336; 2871303339          Ed du CEFAL   \n",
       "1                              9782278058327; 2278058320               Didier   \n",
       "2                              2343190194; 9782343190198          L'Harmattan   \n",
       "3      9782365350020; 236535002X; 9782365350488; 2365...              Vraoum!   \n",
       "4      9782702180815; 2702180817; 9782702183618; 2702...         Calmann-Lévy   \n",
       "...                                                  ...                  ...   \n",
       "15286  9782353480111; 235348011X; 9782353480241; 2353...      Le Lézard noir   \n",
       "15287  9782382880203; 2382880201; 9782382880210; 2382...               Kbooks   \n",
       "15288  9782811650254; 2811650253; 9782811661274; 2811...                 Pika   \n",
       "15289  9782368522134; 2368522131; 9782368522141; 2368...             Kurokawa   \n",
       "15290                                                NaN  Commune de Lausanne   \n",
       "\n",
       "                                                Subjects      i  \n",
       "0      Classification décimale universelle; Indexatio...      0  \n",
       "1      didactique--langue étrangère - enseignement; d...      1  \n",
       "2      Histoires de vie en sociologie; Sciences socia...      2  \n",
       "3      Moyen-Orient; Bandes dessinées autobiographiqu...      3  \n",
       "4      France--1945-1975; Roman historique; Roman fra...      4  \n",
       "...                                                  ...    ...  \n",
       "15286                                             Mangas  15286  \n",
       "15287                                                NaN  15287  \n",
       "15288  Compétitions; Football; Entraînement (sports);...  15288  \n",
       "15289                           Bandes dessinées; Mangas  15289  \n",
       "15290  école (bâtiment) - construction - planificatio...  15290  \n",
       "\n",
       "[15291 rows x 6 columns]"
      ]
     },
     "execution_count": 3,
     "metadata": {},
     "output_type": "execute_result"
    }
   ],
   "source": [
    "items = pd.read_csv(\"./kaggle_data/items.csv\")\n",
    "items['Title'] = items['Title'].str.replace(r'\\s*/\\s*$', '', regex=True)\n",
    "items"
   ]
  },
  {
   "cell_type": "code",
   "execution_count": null,
   "id": "0999454d",
   "metadata": {},
   "outputs": [],
   "source": [
    "system_message = \"\"\"\n",
    "You are a professional book metadata assistant.\n",
    "\n",
    "Given a JSON with:\n",
    "• \"title\": French book title\n",
    "• \"subjects\": list of French keywords\n",
    "\n",
    "Return only a JSON with:\n",
    "\n",
    "\"Semantic_Tags\": up to 3 concise English nouns/phrases\n",
    "\"Genre\": 1 top-level English genre\n",
    "\"Subgenre\": 1 specific English subgenre\n",
    "\"Themes\": up to 2 high-level English themes\n",
    "\"Tone_Mood\": up to 3 English descriptors (tone or style)\n",
    "\"Target_Audience\": English phrase, ≤10 words\n",
    "\"Short_Summary\": 1–2 English sentences, max 20 words\n",
    "Output only valid JSON. No explanations or extra text.\n",
    "\"\"\""
   ]
  },
  {
   "cell_type": "code",
   "execution_count": 6,
   "id": "9cbfa520",
   "metadata": {},
   "outputs": [],
   "source": [
    "tasks = []\n",
    "\n",
    "for index, row in items[10000:].iterrows():\n",
    "\n",
    "    title = row[\"Title\"]\n",
    "    subjects = row[\"Subjects\"]\n",
    "    input_dict = {\n",
    "        \"title\": title,\n",
    "        \"subjects\": subjects\n",
    "    }\n",
    "    \n",
    "    task = {\n",
    "        \"custom_id\": f\"task-{index}\",\n",
    "        \"method\": \"POST\",\n",
    "        \"url\": \"/v1/chat/completions\",\n",
    "        \"body\": {\n",
    "            \"model\": \"gpt-4.1-mini\",\n",
    "            \"temperature\": 0.1,\n",
    "            \"response_format\": { \n",
    "                \"type\": \"json_object\"\n",
    "            },\n",
    "            \"messages\": [\n",
    "                {\n",
    "                    \"role\": \"system\",\n",
    "                    \"content\": system_message\n",
    "                },\n",
    "                {\n",
    "                    \"role\": \"user\",\n",
    "                    \"content\": json.dumps(input_dict, ensure_ascii=False)\n",
    "                }\n",
    "            ],\n",
    "        }\n",
    "    }\n",
    "    \n",
    "    tasks.append(task)"
   ]
  },
  {
   "cell_type": "code",
   "execution_count": 7,
   "id": "4c8bc828",
   "metadata": {},
   "outputs": [],
   "source": [
    "file_name = \"./batch_tasks_books_2.jsonl\"\n",
    "\n",
    "with open(file_name, 'w') as file:\n",
    "    for obj in tasks:\n",
    "        file.write(json.dumps(obj, ensure_ascii=False) + '\\n')"
   ]
  },
  {
   "cell_type": "code",
   "execution_count": 8,
   "id": "3c2b4654",
   "metadata": {},
   "outputs": [],
   "source": [
    "batch_file = client.files.create(file=open(file_name, \"rb\"), purpose=\"batch\")"
   ]
  },
  {
   "cell_type": "code",
   "execution_count": 9,
   "id": "7e3a77ce",
   "metadata": {},
   "outputs": [
    {
     "name": "stdout",
     "output_type": "stream",
     "text": [
      "FileObject(id='file-SDJu6P12z6aXvuqj381MWR', bytes=5415573, created_at=1747298636, filename='batch_tasks_books_2.jsonl', object='file', purpose='batch', status='processed', expires_at=None, status_details=None)\n"
     ]
    }
   ],
   "source": [
    "print(batch_file)"
   ]
  },
  {
   "cell_type": "code",
   "execution_count": 10,
   "id": "ed1c3bea",
   "metadata": {},
   "outputs": [],
   "source": [
    "batch_job = client.batches.create(\n",
    "    input_file_id=batch_file.id,\n",
    "    endpoint=\"/v1/chat/completions\",\n",
    "    completion_window=\"24h\",\n",
    ")"
   ]
  },
  {
   "cell_type": "code",
   "execution_count": 11,
   "id": "1f420e37",
   "metadata": {},
   "outputs": [
    {
     "name": "stdout",
     "output_type": "stream",
     "text": [
      "Batch(id='batch_68252ded32fc8190a668f0c0b9ed5ef1', completion_window='24h', created_at=1747267053, endpoint='/v1/chat/completions', input_file_id='file-4AVWr9c2f3iMAsero3VnDL', object='batch', status='validating', cancelled_at=None, cancelling_at=None, completed_at=None, error_file_id=None, errors=None, expired_at=None, expires_at=1747353453, failed_at=None, finalizing_at=None, in_progress_at=None, metadata=None, output_file_id=None, request_counts=BatchRequestCounts(completed=0, failed=0, total=0))\n"
     ]
    }
   ],
   "source": [
    "batch_job = client.batches.retrieve(batch_job.id)\n",
    "print(batch_job)"
   ]
  },
  {
   "cell_type": "code",
   "execution_count": null,
   "id": "6938ea18",
   "metadata": {},
   "outputs": [],
   "source": []
  }
 ],
 "metadata": {
  "kernelspec": {
   "display_name": "base",
   "language": "python",
   "name": "python3"
  },
  "language_info": {
   "codemirror_mode": {
    "name": "ipython",
    "version": 3
   },
   "file_extension": ".py",
   "mimetype": "text/x-python",
   "name": "python",
   "nbconvert_exporter": "python",
   "pygments_lexer": "ipython3",
   "version": "3.11.8"
  }
 },
 "nbformat": 4,
 "nbformat_minor": 5
}
