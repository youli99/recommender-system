{
 "cells": [
  {
   "cell_type": "code",
   "execution_count": 1,
   "id": "45540ec9",
   "metadata": {},
   "outputs": [],
   "source": [
    "import pandas as pd"
   ]
  },
  {
   "cell_type": "code",
   "execution_count": 2,
   "id": "d1195936",
   "metadata": {},
   "outputs": [],
   "source": [
    "interactions = pd.read_csv(\"./kaggle_data/interactions_train.csv\")"
   ]
  },
  {
   "cell_type": "code",
   "execution_count": 3,
   "id": "091c97f5",
   "metadata": {},
   "outputs": [
    {
     "data": {
      "application/vnd.microsoft.datawrangler.viewer.v0+json": {
       "columns": [
        {
         "name": "index",
         "rawType": "int64",
         "type": "integer"
        },
        {
         "name": "u",
         "rawType": "int64",
         "type": "integer"
        },
        {
         "name": "i",
         "rawType": "int64",
         "type": "integer"
        },
        {
         "name": "t",
         "rawType": "float64",
         "type": "float"
        }
       ],
       "conversionMethod": "pd.DataFrame",
       "ref": "66395987-2bdd-4385-a9fb-339929fff166",
       "rows": [
        [
         "0",
         "4456",
         "8581",
         "1687541086.0"
        ],
        [
         "1",
         "142",
         "1964",
         "1679585406.0"
        ],
        [
         "2",
         "362",
         "3705",
         "1706871659.0"
        ],
        [
         "3",
         "1809",
         "11317",
         "1673533162.0"
        ],
        [
         "4",
         "4384",
         "1323",
         "1681402162.0"
        ],
        [
         "5",
         "2369",
         "1",
         "1695303992.0"
        ],
        [
         "6",
         "259",
         "3263",
         "1680104307.0"
        ],
        [
         "7",
         "6239",
         "1166",
         "1680262624.0"
        ],
        [
         "8",
         "2744",
         "12933",
         "1719324867.0"
        ],
        [
         "9",
         "6597",
         "14891",
         "1702570375.0"
        ],
        [
         "10",
         "6239",
         "2815",
         "1695387473.0"
        ],
        [
         "11",
         "4648",
         "10591",
         "1696852596.0"
        ],
        [
         "12",
         "1488",
         "7708",
         "1678450462.0"
        ],
        [
         "13",
         "1849",
         "7929",
         "1688398762.0"
        ],
        [
         "14",
         "2620",
         "9672",
         "1718987979.0"
        ],
        [
         "15",
         "7178",
         "5846",
         "1699544308.0"
        ],
        [
         "16",
         "3148",
         "8195",
         "1688053023.0"
        ],
        [
         "17",
         "362",
         "4206",
         "1685100476.0"
        ],
        [
         "18",
         "5418",
         "4910",
         "1686765756.0"
        ],
        [
         "19",
         "7449",
         "2873",
         "1708187846.0"
        ],
        [
         "20",
         "1517",
         "8719",
         "1719766092.0"
        ],
        [
         "21",
         "2161",
         "11094",
         "1710780135.0"
        ],
        [
         "22",
         "1277",
         "4111",
         "1702577859.0"
        ],
        [
         "23",
         "3764",
         "13990",
         "1711535429.0"
        ],
        [
         "24",
         "3880",
         "7118",
         "1709222751.0"
        ],
        [
         "25",
         "740",
         "2697",
         "1674577976.0"
        ],
        [
         "26",
         "3654",
         "6352",
         "1686582878.0"
        ],
        [
         "27",
         "5030",
         "7229",
         "1682689322.0"
        ],
        [
         "28",
         "1300",
         "3055",
         "1681830192.0"
        ],
        [
         "29",
         "1063",
         "778",
         "1709911766.0"
        ],
        [
         "30",
         "904",
         "8022",
         "1693239539.0"
        ],
        [
         "31",
         "879",
         "7042",
         "1697551163.0"
        ],
        [
         "32",
         "7407",
         "1287",
         "1696263955.0"
        ],
        [
         "33",
         "3724",
         "4515",
         "1696325011.0"
        ],
        [
         "34",
         "3201",
         "13495",
         "1687001283.0"
        ],
        [
         "35",
         "3038",
         "13295",
         "1689859638.0"
        ],
        [
         "36",
         "3166",
         "2457",
         "1678122461.0"
        ],
        [
         "37",
         "4734",
         "739",
         "1678969170.0"
        ],
        [
         "38",
         "3474",
         "10336",
         "1707400689.0"
        ],
        [
         "39",
         "3754",
         "13983",
         "1686733771.0"
        ],
        [
         "40",
         "184",
         "2454",
         "1673277425.0"
        ],
        [
         "41",
         "38",
         "677",
         "1675683518.0"
        ],
        [
         "42",
         "451",
         "5018",
         "1709030350.0"
        ],
        [
         "43",
         "1673",
         "8962",
         "1720103781.0"
        ],
        [
         "44",
         "3245",
         "8904",
         "1684337018.0"
        ],
        [
         "45",
         "3431",
         "8848",
         "1715954462.0"
        ],
        [
         "46",
         "2832",
         "10489",
         "1700585918.0"
        ],
        [
         "47",
         "530",
         "5630",
         "1683971508.0"
        ],
        [
         "48",
         "1786",
         "6036",
         "1677168188.0"
        ],
        [
         "49",
         "1711",
         "5740",
         "1699346110.0"
        ]
       ],
       "shape": {
        "columns": 3,
        "rows": 87047
       }
      },
      "text/html": [
       "<div>\n",
       "<style scoped>\n",
       "    .dataframe tbody tr th:only-of-type {\n",
       "        vertical-align: middle;\n",
       "    }\n",
       "\n",
       "    .dataframe tbody tr th {\n",
       "        vertical-align: top;\n",
       "    }\n",
       "\n",
       "    .dataframe thead th {\n",
       "        text-align: right;\n",
       "    }\n",
       "</style>\n",
       "<table border=\"1\" class=\"dataframe\">\n",
       "  <thead>\n",
       "    <tr style=\"text-align: right;\">\n",
       "      <th></th>\n",
       "      <th>u</th>\n",
       "      <th>i</th>\n",
       "      <th>t</th>\n",
       "    </tr>\n",
       "  </thead>\n",
       "  <tbody>\n",
       "    <tr>\n",
       "      <th>0</th>\n",
       "      <td>4456</td>\n",
       "      <td>8581</td>\n",
       "      <td>1.687541e+09</td>\n",
       "    </tr>\n",
       "    <tr>\n",
       "      <th>1</th>\n",
       "      <td>142</td>\n",
       "      <td>1964</td>\n",
       "      <td>1.679585e+09</td>\n",
       "    </tr>\n",
       "    <tr>\n",
       "      <th>2</th>\n",
       "      <td>362</td>\n",
       "      <td>3705</td>\n",
       "      <td>1.706872e+09</td>\n",
       "    </tr>\n",
       "    <tr>\n",
       "      <th>3</th>\n",
       "      <td>1809</td>\n",
       "      <td>11317</td>\n",
       "      <td>1.673533e+09</td>\n",
       "    </tr>\n",
       "    <tr>\n",
       "      <th>4</th>\n",
       "      <td>4384</td>\n",
       "      <td>1323</td>\n",
       "      <td>1.681402e+09</td>\n",
       "    </tr>\n",
       "    <tr>\n",
       "      <th>...</th>\n",
       "      <td>...</td>\n",
       "      <td>...</td>\n",
       "      <td>...</td>\n",
       "    </tr>\n",
       "    <tr>\n",
       "      <th>87042</th>\n",
       "      <td>924</td>\n",
       "      <td>8171</td>\n",
       "      <td>1.699284e+09</td>\n",
       "    </tr>\n",
       "    <tr>\n",
       "      <th>87043</th>\n",
       "      <td>1106</td>\n",
       "      <td>9009</td>\n",
       "      <td>1.699872e+09</td>\n",
       "    </tr>\n",
       "    <tr>\n",
       "      <th>87044</th>\n",
       "      <td>5207</td>\n",
       "      <td>13400</td>\n",
       "      <td>1.683627e+09</td>\n",
       "    </tr>\n",
       "    <tr>\n",
       "      <th>87045</th>\n",
       "      <td>698</td>\n",
       "      <td>5779</td>\n",
       "      <td>1.686667e+09</td>\n",
       "    </tr>\n",
       "    <tr>\n",
       "      <th>87046</th>\n",
       "      <td>3111</td>\n",
       "      <td>7988</td>\n",
       "      <td>1.681743e+09</td>\n",
       "    </tr>\n",
       "  </tbody>\n",
       "</table>\n",
       "<p>87047 rows × 3 columns</p>\n",
       "</div>"
      ],
      "text/plain": [
       "          u      i             t\n",
       "0      4456   8581  1.687541e+09\n",
       "1       142   1964  1.679585e+09\n",
       "2       362   3705  1.706872e+09\n",
       "3      1809  11317  1.673533e+09\n",
       "4      4384   1323  1.681402e+09\n",
       "...     ...    ...           ...\n",
       "87042   924   8171  1.699284e+09\n",
       "87043  1106   9009  1.699872e+09\n",
       "87044  5207  13400  1.683627e+09\n",
       "87045   698   5779  1.686667e+09\n",
       "87046  3111   7988  1.681743e+09\n",
       "\n",
       "[87047 rows x 3 columns]"
      ]
     },
     "execution_count": 3,
     "metadata": {},
     "output_type": "execute_result"
    }
   ],
   "source": [
    "interactions"
   ]
  },
  {
   "cell_type": "code",
   "execution_count": 4,
   "id": "1a9fb417",
   "metadata": {},
   "outputs": [],
   "source": [
    "interactions_sorted = interactions.sort_values([\"u\", \"t\"]).reset_index(drop=True)"
   ]
  },
  {
   "cell_type": "code",
   "execution_count": 5,
   "id": "b36bbfa7",
   "metadata": {},
   "outputs": [
    {
     "data": {
      "application/vnd.microsoft.datawrangler.viewer.v0+json": {
       "columns": [
        {
         "name": "index",
         "rawType": "int64",
         "type": "integer"
        },
        {
         "name": "u",
         "rawType": "int64",
         "type": "integer"
        },
        {
         "name": "i",
         "rawType": "int64",
         "type": "integer"
        },
        {
         "name": "t",
         "rawType": "float64",
         "type": "float"
        }
       ],
       "conversionMethod": "pd.DataFrame",
       "ref": "966bcae1-09f9-45b9-b88c-1ac08f99330e",
       "rows": [
        [
         "0",
         "0",
         "0",
         "1680191070.0"
        ],
        [
         "1",
         "0",
         "1",
         "1680783234.0"
        ],
        [
         "2",
         "0",
         "2",
         "1680801308.0"
        ],
        [
         "3",
         "0",
         "3",
         "1683714945.0"
        ],
        [
         "4",
         "0",
         "3",
         "1683714950.0"
        ],
        [
         "5",
         "0",
         "4",
         "1686568835.0"
        ],
        [
         "6",
         "0",
         "5",
         "1687013944.0"
        ],
        [
         "7",
         "0",
         "6",
         "1687013964.0"
        ],
        [
         "8",
         "0",
         "7",
         "1687013971.0"
        ],
        [
         "9",
         "0",
         "8",
         "1687260106.0"
        ],
        [
         "10",
         "0",
         "9",
         "1687343458.0"
        ],
        [
         "11",
         "0",
         "10",
         "1693407969.0"
        ],
        [
         "12",
         "0",
         "11",
         "1693906548.0"
        ],
        [
         "13",
         "0",
         "13",
         "1693906550.0"
        ],
        [
         "14",
         "0",
         "12",
         "1693906550.0"
        ],
        [
         "15",
         "0",
         "14",
         "1693906551.0"
        ],
        [
         "16",
         "0",
         "15",
         "1693906552.0"
        ],
        [
         "17",
         "0",
         "16",
         "1696933347.0"
        ],
        [
         "18",
         "0",
         "17",
         "1696933350.0"
        ],
        [
         "19",
         "0",
         "18",
         "1696933352.0"
        ],
        [
         "20",
         "0",
         "19",
         "1697530592.0"
        ],
        [
         "21",
         "0",
         "20",
         "1698667245.0"
        ],
        [
         "22",
         "0",
         "21",
         "1710779337.0"
        ],
        [
         "23",
         "0",
         "22",
         "1710845850.0"
        ],
        [
         "24",
         "0",
         "23",
         "1710932362.0"
        ],
        [
         "25",
         "0",
         "24",
         "1713272286.0"
        ],
        [
         "26",
         "1",
         "29",
         "1676564469.0"
        ],
        [
         "27",
         "1",
         "30",
         "1677844086.0"
        ],
        [
         "28",
         "1",
         "31",
         "1681398522.0"
        ],
        [
         "29",
         "1",
         "32",
         "1682005595.0"
        ],
        [
         "30",
         "1",
         "33",
         "1683213789.0"
        ],
        [
         "31",
         "1",
         "34",
         "1685028671.0"
        ],
        [
         "32",
         "1",
         "35",
         "1685033049.0"
        ],
        [
         "33",
         "1",
         "36",
         "1691588071.0"
        ],
        [
         "34",
         "1",
         "36",
         "1691588075.0"
        ],
        [
         "35",
         "1",
         "36",
         "1691588079.0"
        ],
        [
         "36",
         "1",
         "37",
         "1698846800.0"
        ],
        [
         "37",
         "1",
         "37",
         "1698846804.0"
        ],
        [
         "38",
         "1",
         "37",
         "1698846809.0"
        ],
        [
         "39",
         "1",
         "38",
         "1698849302.0"
        ],
        [
         "40",
         "1",
         "38",
         "1701161961.0"
        ],
        [
         "41",
         "1",
         "39",
         "1707759444.0"
        ],
        [
         "42",
         "2",
         "44",
         "1672853914.0"
        ],
        [
         "43",
         "2",
         "45",
         "1673549592.0"
        ],
        [
         "44",
         "2",
         "46",
         "1673549806.0"
        ],
        [
         "45",
         "2",
         "47",
         "1673697754.0"
        ],
        [
         "46",
         "2",
         "48",
         "1674661536.0"
        ],
        [
         "47",
         "2",
         "49",
         "1674661542.0"
        ],
        [
         "48",
         "2",
         "50",
         "1674661547.0"
        ],
        [
         "49",
         "2",
         "51",
         "1675965207.0"
        ]
       ],
       "shape": {
        "columns": 3,
        "rows": 87047
       }
      },
      "text/html": [
       "<div>\n",
       "<style scoped>\n",
       "    .dataframe tbody tr th:only-of-type {\n",
       "        vertical-align: middle;\n",
       "    }\n",
       "\n",
       "    .dataframe tbody tr th {\n",
       "        vertical-align: top;\n",
       "    }\n",
       "\n",
       "    .dataframe thead th {\n",
       "        text-align: right;\n",
       "    }\n",
       "</style>\n",
       "<table border=\"1\" class=\"dataframe\">\n",
       "  <thead>\n",
       "    <tr style=\"text-align: right;\">\n",
       "      <th></th>\n",
       "      <th>u</th>\n",
       "      <th>i</th>\n",
       "      <th>t</th>\n",
       "    </tr>\n",
       "  </thead>\n",
       "  <tbody>\n",
       "    <tr>\n",
       "      <th>0</th>\n",
       "      <td>0</td>\n",
       "      <td>0</td>\n",
       "      <td>1.680191e+09</td>\n",
       "    </tr>\n",
       "    <tr>\n",
       "      <th>1</th>\n",
       "      <td>0</td>\n",
       "      <td>1</td>\n",
       "      <td>1.680783e+09</td>\n",
       "    </tr>\n",
       "    <tr>\n",
       "      <th>2</th>\n",
       "      <td>0</td>\n",
       "      <td>2</td>\n",
       "      <td>1.680801e+09</td>\n",
       "    </tr>\n",
       "    <tr>\n",
       "      <th>3</th>\n",
       "      <td>0</td>\n",
       "      <td>3</td>\n",
       "      <td>1.683715e+09</td>\n",
       "    </tr>\n",
       "    <tr>\n",
       "      <th>4</th>\n",
       "      <td>0</td>\n",
       "      <td>3</td>\n",
       "      <td>1.683715e+09</td>\n",
       "    </tr>\n",
       "    <tr>\n",
       "      <th>...</th>\n",
       "      <td>...</td>\n",
       "      <td>...</td>\n",
       "      <td>...</td>\n",
       "    </tr>\n",
       "    <tr>\n",
       "      <th>87042</th>\n",
       "      <td>7836</td>\n",
       "      <td>3471</td>\n",
       "      <td>1.728644e+09</td>\n",
       "    </tr>\n",
       "    <tr>\n",
       "      <th>87043</th>\n",
       "      <td>7836</td>\n",
       "      <td>3471</td>\n",
       "      <td>1.728644e+09</td>\n",
       "    </tr>\n",
       "    <tr>\n",
       "      <th>87044</th>\n",
       "      <td>7837</td>\n",
       "      <td>2191</td>\n",
       "      <td>1.728735e+09</td>\n",
       "    </tr>\n",
       "    <tr>\n",
       "      <th>87045</th>\n",
       "      <td>7837</td>\n",
       "      <td>88</td>\n",
       "      <td>1.728735e+09</td>\n",
       "    </tr>\n",
       "    <tr>\n",
       "      <th>87046</th>\n",
       "      <td>7837</td>\n",
       "      <td>2209</td>\n",
       "      <td>1.728735e+09</td>\n",
       "    </tr>\n",
       "  </tbody>\n",
       "</table>\n",
       "<p>87047 rows × 3 columns</p>\n",
       "</div>"
      ],
      "text/plain": [
       "          u     i             t\n",
       "0         0     0  1.680191e+09\n",
       "1         0     1  1.680783e+09\n",
       "2         0     2  1.680801e+09\n",
       "3         0     3  1.683715e+09\n",
       "4         0     3  1.683715e+09\n",
       "...     ...   ...           ...\n",
       "87042  7836  3471  1.728644e+09\n",
       "87043  7836  3471  1.728644e+09\n",
       "87044  7837  2191  1.728735e+09\n",
       "87045  7837    88  1.728735e+09\n",
       "87046  7837  2209  1.728735e+09\n",
       "\n",
       "[87047 rows x 3 columns]"
      ]
     },
     "execution_count": 5,
     "metadata": {},
     "output_type": "execute_result"
    }
   ],
   "source": [
    "interactions_sorted"
   ]
  },
  {
   "cell_type": "code",
   "execution_count": 6,
   "id": "4ccc085b",
   "metadata": {},
   "outputs": [],
   "source": [
    "interactions_sorted[\"pct_rank\"] = interactions_sorted.groupby(\"u\")[\"t\"].rank(pct=True, method='dense')\n",
    "interactions_sorted.reset_index(inplace=True, drop=True)\n",
    "train_data = interactions_sorted[interactions_sorted[\"pct_rank\"] < 0.8]\n",
    "test_data = interactions_sorted[interactions_sorted[\"pct_rank\"] >= 0.8]"
   ]
  },
  {
   "cell_type": "code",
   "execution_count": 7,
   "id": "c4487973",
   "metadata": {},
   "outputs": [
    {
     "name": "stdout",
     "output_type": "stream",
     "text": [
      "Training set size: 65419\n",
      "Testing set size: 21628\n"
     ]
    }
   ],
   "source": [
    "print(\"Training set size:\", train_data.shape[0])\n",
    "print(\"Testing set size:\", test_data.shape[0])"
   ]
  },
  {
   "cell_type": "code",
   "execution_count": 8,
   "id": "29bde5ba",
   "metadata": {},
   "outputs": [],
   "source": [
    "train_data.to_csv(\"./kaggle_data/train_data.csv\", index=False)\n",
    "test_data.to_csv(\"./kaggle_data/test_data.csv\", index=False)"
   ]
  },
  {
   "cell_type": "code",
   "execution_count": null,
   "id": "c5179ecd",
   "metadata": {},
   "outputs": [],
   "source": []
  }
 ],
 "metadata": {
  "kernelspec": {
   "display_name": "base",
   "language": "python",
   "name": "python3"
  },
  "language_info": {
   "codemirror_mode": {
    "name": "ipython",
    "version": 3
   },
   "file_extension": ".py",
   "mimetype": "text/x-python",
   "name": "python",
   "nbconvert_exporter": "python",
   "pygments_lexer": "ipython3",
   "version": "3.11.8"
  }
 },
 "nbformat": 4,
 "nbformat_minor": 5
}
