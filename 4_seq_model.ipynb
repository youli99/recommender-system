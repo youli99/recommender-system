{
 "cells": [
  {
   "cell_type": "code",
   "execution_count": null,
   "id": "842110ef",
   "metadata": {},
   "outputs": [
    {
     "name": "stdout",
     "output_type": "stream",
     "text": [
      "Using device: mps\n"
     ]
    }
   ],
   "source": [
    "import torch\n",
    "import torch.nn as nn\n",
    "import pandas as pd\n",
    "from torch.utils.data import Dataset, DataLoader\n",
    "from torch.nn.utils.rnn import pad_sequence\n",
    "\n",
    "device = torch.device(\"mps\" if torch.backends.mps.is_available() else \"cpu\")\n",
    "print(f\"Using device: {device}\")\n",
    "\n",
    "MAX_INPUT_LEN = 10\n",
    "PREDICT_LEN = 5\n",
    "BATCH_SIZE = 64\n",
    "EPOCHS = 1000\n",
    "EMB_DIM = 64\n",
    "HIDDEN_DIM = 128\n",
    "VOCAB_SIZE = 15298"
   ]
  },
  {
   "cell_type": "code",
   "execution_count": null,
   "id": "ae14ada5",
   "metadata": {},
   "outputs": [],
   "source": [
    "df = pd.read_csv(\"./kaggle_data/interactions_train.csv\")\n",
    "df.columns = ['user_id', 'item_id', 'timestamp']\n",
    "df_sorted = df.sort_values(by=['user_id', 'timestamp'])\n",
    "grouped = df_sorted.groupby('user_id')['item_id'].apply(list)\n",
    "\n",
    "def is_step_one_user(seq, min_len=5, min_ratio=0.7):\n",
    "    if len(seq) < min_len:\n",
    "        return False\n",
    "    diffs = [b - a for a, b in zip(seq[:-1], seq[1:])]\n",
    "    return sum(d == 1 for d in diffs) / len(diffs) >= min_ratio\n",
    "\n",
    "filtered_users = [(uid, seq) for uid, seq in grouped.items() if is_step_one_user(seq)]\n",
    "\n",
    "train_samples = []\n",
    "for _, items in filtered_users:\n",
    "    for i in range(len(items) - PREDICT_LEN):\n",
    "        full_input = items[:i + 1]\n",
    "        input_seq = full_input[-MAX_INPUT_LEN:]\n",
    "        base = input_seq[-1]\n",
    "        target_abs = items[i + 1:i + 1 + PREDICT_LEN]\n",
    "        target_offset = [t - base for t in target_abs]\n",
    "        if all(1 <= t - base <= 100 for t in target_abs):\n",
    "            train_samples.append((input_seq, target_offset))\n",
    "\n",
    "class BookOffsetDataset(Dataset):\n",
    "    def __init__(self, samples):\n",
    "        self.samples = samples\n",
    "\n",
    "    def __len__(self):\n",
    "        return len(self.samples)\n",
    "\n",
    "    def __getitem__(self, idx):\n",
    "        x, y = self.samples[idx]\n",
    "        return torch.tensor(x, dtype=torch.long), torch.tensor(y, dtype=torch.float)\n",
    "\n",
    "def collate_fn(batch):\n",
    "    xs, ys = zip(*batch)\n",
    "    xs_padded = pad_sequence(xs, batch_first=True, padding_value=0)\n",
    "    ys_stacked = torch.stack(ys)\n",
    "    return xs_padded, ys_stacked\n",
    "\n",
    "train_loader = DataLoader(BookOffsetDataset(train_samples), batch_size=BATCH_SIZE, shuffle=True, collate_fn=collate_fn)"
   ]
  },
  {
   "cell_type": "code",
   "execution_count": null,
   "id": "1a35a362",
   "metadata": {},
   "outputs": [],
   "source": [
    "class TransformerPredictor(nn.Module):\n",
    "    def __init__(\n",
    "        self, vocab_size, emb_dim, hidden_dim, output_len, max_len=MAX_INPUT_LEN\n",
    "    ):\n",
    "        super().__init__()\n",
    "        self.embedding = nn.Embedding(vocab_size, emb_dim, padding_idx=0)\n",
    "        self.positional_encoding = nn.Parameter(torch.randn(1, max_len, emb_dim))\n",
    "\n",
    "        encoder_layer = nn.TransformerEncoderLayer(\n",
    "            d_model=emb_dim, nhead=4, dim_feedforward=hidden_dim\n",
    "        )\n",
    "        self.encoder = nn.TransformerEncoder(encoder_layer, num_layers=2)\n",
    "        self.output_layer = nn.Sequential(\n",
    "            nn.Linear(emb_dim, output_len), nn.ReLU()\n",
    "        )\n",
    "\n",
    "    def forward(self, x):\n",
    "        pad_mask = x == 0\n",
    "        seq_len = x.size(1)\n",
    "        emb = self.embedding(x) + self.positional_encoding[:, :seq_len, :]\n",
    "        emb = emb.permute(1, 0, 2)\n",
    "        encoded = self.encoder(emb, src_key_padding_mask=pad_mask)\n",
    "        pooled = encoded[-1]\n",
    "        return self.output_layer(pooled)"
   ]
  },
  {
   "cell_type": "code",
   "execution_count": null,
   "id": "3c938af2",
   "metadata": {},
   "outputs": [],
   "source": [
    "model = TransformerPredictor(VOCAB_SIZE, EMB_DIM, HIDDEN_DIM, PREDICT_LEN).to(device)\n",
    "optimizer = torch.optim.Adam(model.parameters(), lr=1e-3)\n",
    "loss_fn = nn.MSELoss()\n",
    "\n",
    "for epoch in range(EPOCHS):\n",
    "    model.train()\n",
    "    total_loss = 0\n",
    "    for x, y in train_loader:\n",
    "        x, y = x.to(device), y.to(device)\n",
    "        optimizer.zero_grad()\n",
    "        pred = model(x)\n",
    "        loss = loss_fn(pred, y)\n",
    "        loss.backward()\n",
    "        optimizer.step()\n",
    "        total_loss += loss.item()\n",
    "    print(f\"[Epoch {epoch+1}] Loss: {total_loss:.4f}\")"
   ]
  },
  {
   "cell_type": "code",
   "execution_count": null,
   "id": "a926b164",
   "metadata": {},
   "outputs": [],
   "source": [
    "model.eval()\n",
    "test_input = torch.tensor([[1350, 1350, 1350, 1350, 1350, 1351, 1351, 1350, 1350, 1350]], dtype=torch.long).to(device)\n",
    "with torch.no_grad():\n",
    "    offset_pred = model(test_input)\n",
    "    base = test_input[0, -1]\n",
    "    pred_item_ids = (offset_pred + base).round()\n",
    "print(\"Item_id：\", pred_item_ids.cpu().tolist())\n"
   ]
  },
  {
   "cell_type": "code",
   "execution_count": 7,
   "id": "e130e717",
   "metadata": {},
   "outputs": [],
   "source": [
    "torch.save(model, \"transformer_model.pt\")"
   ]
  },
  {
   "cell_type": "code",
   "execution_count": 9,
   "id": "41067e2b",
   "metadata": {},
   "outputs": [],
   "source": [
    "torch.save(model.state_dict(), \"transformer_checkpoint.pt\")"
   ]
  },
  {
   "cell_type": "code",
   "execution_count": null,
   "id": "d58278a1",
   "metadata": {},
   "outputs": [],
   "source": []
  }
 ],
 "metadata": {
  "kernelspec": {
   "display_name": "base",
   "language": "python",
   "name": "python3"
  },
  "language_info": {
   "codemirror_mode": {
    "name": "ipython",
    "version": 3
   },
   "file_extension": ".py",
   "mimetype": "text/x-python",
   "name": "python",
   "nbconvert_exporter": "python",
   "pygments_lexer": "ipython3",
   "version": "3.11.8"
  }
 },
 "nbformat": 4,
 "nbformat_minor": 5
}
