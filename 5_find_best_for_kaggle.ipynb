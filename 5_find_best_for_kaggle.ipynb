{
 "cells": [
  {
   "cell_type": "code",
   "execution_count": 1,
   "id": "3d625023",
   "metadata": {},
   "outputs": [],
   "source": [
    "import pandas as pd\n",
    "import json\n",
    "import numpy as np\n",
    "from tqdm import tqdm\n",
    "from sklearn.metrics.pairwise import cosine_similarity"
   ]
  },
  {
   "cell_type": "code",
   "execution_count": 2,
   "id": "cbf27fb5",
   "metadata": {},
   "outputs": [],
   "source": [
    "items = pd.read_csv(\"kaggle_data/items.csv\")\n",
    "interactions = pd.read_csv(\"kaggle_data/interactions_train.csv\")\n",
    "train_df = pd.read_csv(\"kaggle_data/train_data.csv\")\n",
    "test_df = pd.read_csv(\"kaggle_data/test_data.csv\")"
   ]
  },
  {
   "cell_type": "code",
   "execution_count": 3,
   "id": "481a13a7",
   "metadata": {},
   "outputs": [
    {
     "name": "stdout",
     "output_type": "stream",
     "text": [
      "Number of users = 7838,\n",
      "Number of items = 15291,\n",
      "Number of interactions = 87047\n"
     ]
    }
   ],
   "source": [
    "n_users = np.max(interactions.u) + 1\n",
    "n_items = np.max(interactions.i) + 1\n",
    "print(f'Number of users = {n_users},\\nNumber of items = {n_items},\\nNumber of interactions = {len(interactions)}')"
   ]
  },
  {
   "cell_type": "markdown",
   "id": "61a8fe57",
   "metadata": {},
   "source": [
    "# 1. Read the embeddings"
   ]
  },
  {
   "cell_type": "code",
   "execution_count": 4,
   "id": "d876f420",
   "metadata": {},
   "outputs": [],
   "source": [
    "def create_embedding_df(file_name):\n",
    "    results_df = pd.DataFrame(columns=[\"i\", \"custom_id\", \"vector\"])\n",
    "    with open(file_name, \"r\") as file:\n",
    "        for line in tqdm(file):\n",
    "            # Parsing the JSON string into a dict and appending to the list of results\n",
    "            json_object = json.loads(line.strip())\n",
    "            custom_id = json_object[\"custom_id\"]\n",
    "            i = custom_id.split(\"-\")[1]\n",
    "            vector = json_object[\"response\"][\"body\"][\"data\"][0][\"embedding\"]\n",
    "            vector = np.array(vector)\n",
    "            # Add the new row to the DataFrame\n",
    "            results_df = pd.concat(\n",
    "                [\n",
    "                    results_df,\n",
    "                    pd.DataFrame(\n",
    "                        {\"i\": [i], \"custom_id\": [custom_id], \"vector\": [vector]}\n",
    "                    ),\n",
    "                ],\n",
    "                ignore_index=True,\n",
    "            )\n",
    "\n",
    "    return results_df"
   ]
  },
  {
   "cell_type": "code",
   "execution_count": 5,
   "id": "cfd3ecdd",
   "metadata": {},
   "outputs": [
    {
     "name": "stderr",
     "output_type": "stream",
     "text": [
      "0it [00:00, ?it/s]"
     ]
    },
    {
     "name": "stderr",
     "output_type": "stream",
     "text": [
      "15291it [00:06, 2422.50it/s]\n",
      "15291it [00:06, 2405.99it/s]\n",
      "15291it [00:06, 2366.21it/s]\n",
      "15291it [00:06, 2345.41it/s]\n",
      "15291it [00:06, 2319.78it/s]\n",
      "15291it [00:06, 2321.44it/s]\n"
     ]
    }
   ],
   "source": [
    "semantic_tags = create_embedding_df(\"./items_embedding/emb_semantic_tags_output.jsonl\")\n",
    "subgenre = create_embedding_df(\"./items_embedding/emb_subgenre_output.jsonl\")\n",
    "summary = create_embedding_df(\"./items_embedding/emb_summary_output.jsonl\")\n",
    "target_audience = create_embedding_df(\"./items_embedding/emb_target_audience_output.jsonl\")\n",
    "themes = create_embedding_df(\"./items_embedding/emb_themes_output.jsonl\")\n",
    "tone_mood = create_embedding_df(\"./items_embedding/emb_tone_mood_output.jsonl\")"
   ]
  },
  {
   "cell_type": "code",
   "execution_count": 8,
   "id": "67682134",
   "metadata": {},
   "outputs": [],
   "source": [
    "def check_index(df):\n",
    "    if (df.index == df.i.astype(int)).all():\n",
    "        return True\n",
    "    else:\n",
    "        return False"
   ]
  },
  {
   "cell_type": "code",
   "execution_count": 9,
   "id": "2f81522c",
   "metadata": {},
   "outputs": [],
   "source": [
    "assert len(semantic_tags) == len(subgenre) == len(summary) == len(target_audience) == len(themes) == len(tone_mood) == len(items), \"DataFrames have different lengths\"\n",
    "assert check_index(semantic_tags), \"Index of semantic_tags is not correct\"\n",
    "assert check_index(subgenre), \"Index of subgenre is not correct\"\n",
    "assert check_index(summary), \"Index of summary is not correct\"\n",
    "assert check_index(target_audience), \"Index of target_audience is not correct\"\n",
    "assert check_index(themes), \"Index of themes is not correct\"\n",
    "assert check_index(tone_mood), \"Index of tone_mood is not correct\""
   ]
  },
  {
   "cell_type": "markdown",
   "id": "df50d67f",
   "metadata": {},
   "source": [
    "# 2. CF"
   ]
  },
  {
   "cell_type": "code",
   "execution_count": null,
   "id": "b4aee043",
   "metadata": {},
   "outputs": [],
   "source": [
    "def create_data_matrix(data, n_users, n_items):\n",
    "    \"\"\"\n",
    "    This function returns a numpy matrix with shape (n_users, n_items).\n",
    "    Each entry is a binary value indicating positive interaction.\n",
    "    \"\"\"\n",
    "    data_matrix = np.zeros((n_users, n_items))\n",
    "    for row in data.itertuples():\n",
    "        user_id = getattr(row, \"u\")\n",
    "        item_id = getattr(row, \"i\")\n",
    "        rating = getattr(row, \"rating\")\n",
    "        data_matrix[user_id, item_id] = rating\n",
    "    return data_matrix\n",
    "\n",
    "\n",
    "def item_based_predict(interactions, similarity, epsilon=1e-9):\n",
    "    \"\"\"\n",
    "    Predicts user-item interactions based on item-item similarity.\n",
    "    Parameters:\n",
    "        interactions (numpy array): The user-item interaction matrix.\n",
    "        similarity (numpy array): The item-item similarity matrix.\n",
    "        epsilon (float): Small constant added to the denominator to avoid division by zero.\n",
    "    Returns:\n",
    "        numpy array: The predicted interaction scores for each user-item pair.\n",
    "    \"\"\"\n",
    "    pred = similarity.dot(interactions.T) / (\n",
    "        similarity.sum(axis=1)[:, np.newaxis] + epsilon\n",
    "    )\n",
    "    return pred.T\n",
    "\n",
    "\n",
    "def user_based_predict(interactions, similarity, epsilon=1e-9):\n",
    "    \"\"\"\n",
    "    Predicts user-item interactions based on user-user similarity.\n",
    "    Parameters:\n",
    "        interactions (numpy array): The user-item interaction matrix.\n",
    "        similarity (numpy array): The user-user similarity matrix.\n",
    "        epsilon (float): Small constant added to the denominator to avoid division by zero.\n",
    "    Returns:\n",
    "        numpy array: The predicted interaction scores for each user-item pair.\n",
    "    \"\"\"\n",
    "    pred = similarity.dot(interactions) / (\n",
    "        np.abs(similarity).sum(axis=1)[:, np.newaxis] + epsilon\n",
    "    )\n",
    "    return pred\n",
    "\n",
    "\n",
    "def add_rating(df):\n",
    "    interactions = df.copy()\n",
    "    interactions[\"rating\"] = (interactions[\"t\"] - interactions[\"t\"].min()) / (\n",
    "        interactions[\"t\"].max() - interactions[\"t\"].min()\n",
    "    )\n",
    "    interactions_time = interactions.groupby([\"u\", \"i\"], as_index=False).agg(\n",
    "        t_max=(\"rating\", \"max\"), t_count=(\"rating\", \"count\")\n",
    "    )\n",
    "    interactions_time[\"rating\"] = (\n",
    "        np.exp(2 * interactions_time[\"t_max\"]) * interactions_time[\"t_count\"]\n",
    "    )\n",
    "    interactions_time[\"rating\"] = np.log1p(interactions_time[\"rating\"]) * 100\n",
    "    return interactions_time\n",
    "\n",
    "\n",
    "def print_map_10(test_df, prediction, top_k=10):\n",
    "    ground_truth = test_df.groupby(\"u\")[\"i\"].apply(list).to_dict()\n",
    "\n",
    "    user_ids = np.array(range(n_users))\n",
    "    item_ids = np.array(range(n_items))\n",
    "\n",
    "    top10_preds = {}\n",
    "\n",
    "    for idx, user in enumerate(user_ids):\n",
    "        scores = prediction[idx]\n",
    "        top_indices = np.argsort(scores)[::-1][:top_k]\n",
    "        top_items = item_ids[top_indices]\n",
    "        top10_preds[user] = top_items.tolist()\n",
    "\n",
    "    def average_precision_at_k(predicted, actual, k=10):\n",
    "        if not actual:\n",
    "            return 0.0\n",
    "        score = 0.0\n",
    "        num_hits = 0\n",
    "        for i, p in enumerate(predicted[:k]):\n",
    "            if p in actual:\n",
    "                num_hits += 1\n",
    "                score += num_hits / (i + 1)\n",
    "        return score / min(len(actual), k)\n",
    "\n",
    "    ap_scores = [\n",
    "        average_precision_at_k(top10_preds[user], ground_truth[user], k=10)\n",
    "        for user in user_ids\n",
    "        if user in top10_preds\n",
    "    ]\n",
    "\n",
    "    map10 = np.mean(ap_scores)\n",
    "    print(f\"MAP@10: {map10:.4f}\")\n",
    "    return map10\n",
    "\n",
    "\n",
    "def print_map_10_from_csv(test_df: pd.DataFrame, submission_df: pd.DataFrame) -> float:\n",
    "    ground_truth = test_df.groupby(\"u\")[\"i\"].apply(list).to_dict()\n",
    "\n",
    "    predictions = submission_df.set_index(\"user_id\")[\"recommendation\"].apply(\n",
    "        lambda x: list(map(int, x.strip().split()[:10]))\n",
    "    ).to_dict()\n",
    "\n",
    "    def average_precision_at_k(predicted, actual, k=10):\n",
    "        if not actual:\n",
    "            return 0.0\n",
    "        score = 0.0\n",
    "        num_hits = 0\n",
    "        for i, p in enumerate(predicted[:k]):\n",
    "            if p in actual:\n",
    "                num_hits += 1\n",
    "                score += num_hits / (i + 1)\n",
    "        return score / min(len(actual), k)\n",
    "\n",
    "    ap_scores = []\n",
    "    for user, actual_items in ground_truth.items():\n",
    "        if user in predictions:\n",
    "            predicted_items = predictions[user]\n",
    "            ap = average_precision_at_k(predicted_items, actual_items, k=10)\n",
    "            ap_scores.append(ap)\n",
    "\n",
    "    map_10 = np.mean(ap_scores)\n",
    "    print(f\"MAP@10: {map_10:.4f}\")\n",
    "    return map_10\n"
   ]
  },
  {
   "cell_type": "code",
   "execution_count": 11,
   "id": "0ff05e2f",
   "metadata": {},
   "outputs": [],
   "source": [
    "train_df_rating = add_rating(train_df)"
   ]
  },
  {
   "cell_type": "code",
   "execution_count": 12,
   "id": "f8a11f5c",
   "metadata": {},
   "outputs": [
    {
     "data": {
      "application/vnd.microsoft.datawrangler.viewer.v0+json": {
       "columns": [
        {
         "name": "index",
         "rawType": "int64",
         "type": "integer"
        },
        {
         "name": "u",
         "rawType": "int64",
         "type": "integer"
        },
        {
         "name": "i",
         "rawType": "int64",
         "type": "integer"
        },
        {
         "name": "t_max",
         "rawType": "float64",
         "type": "float"
        },
        {
         "name": "t_count",
         "rawType": "int64",
         "type": "integer"
        },
        {
         "name": "rating",
         "rawType": "float64",
         "type": "float"
        }
       ],
       "ref": "17c29ea8-f5be-4faf-997c-ba496366ce48",
       "rows": [
        [
         "0",
         "0",
         "0",
         "0.1337995379263023",
         "1",
         "83.58712957292079"
        ],
        [
         "1",
         "0",
         "1",
         "0.14432521550199862",
         "1",
         "84.78513229486755"
        ],
        [
         "2",
         "0",
         "2",
         "0.14464647970668368",
         "1",
         "84.82186849478019"
        ],
        [
         "3",
         "0",
         "3",
         "0.1964362816247451",
         "2",
         "137.68648497938864"
        ],
        [
         "4",
         "0",
         "4",
         "0.24716390665449367",
         "1",
         "97.0550060862132"
        ],
        [
         "5",
         "0",
         "5",
         "0.25507569092378496",
         "1",
         "98.0407905089397"
        ],
        [
         "6",
         "0",
         "6",
         "0.2550760464225176",
         "1",
         "98.04083493505068"
        ],
        [
         "7",
         "0",
         "7",
         "0.255076170847074",
         "1",
         "98.04085048419232"
        ],
        [
         "8",
         "0",
         "8",
         "0.25945120487496837",
         "1",
         "98.58848837541476"
        ],
        [
         "9",
         "0",
         "9",
         "0.260932781393111",
         "1",
         "98.7743484542656"
        ],
        [
         "10",
         "0",
         "10",
         "0.36872908012161115",
         "1",
         "112.83700185039322"
        ],
        [
         "11",
         "0",
         "11",
         "0.37759129025261046",
         "1",
         "114.03938288233944"
        ],
        [
         "12",
         "0",
         "12",
         "0.3775913258024837",
         "1",
         "114.03938771930436"
        ],
        [
         "13",
         "0",
         "13",
         "0.3775913258024837",
         "1",
         "114.03938771930436"
        ],
        [
         "14",
         "0",
         "14",
         "0.37759134357742036",
         "1",
         "114.03939013778685"
        ],
        [
         "15",
         "0",
         "15",
         "0.377591361352357",
         "1",
         "114.03939255626938"
        ],
        [
         "16",
         "0",
         "16",
         "0.43139245067512855",
         "1",
         "121.48388649525188"
        ],
        [
         "17",
         "0",
         "17",
         "0.43139250399993845",
         "1",
         "121.48389399530302"
        ],
        [
         "18",
         "0",
         "18",
         "0.4313925395498117",
         "1",
         "121.48389899533723"
        ],
        [
         "19",
         "1",
         "29",
         "0.06933693496209344",
         "1",
         "76.4885997169451"
        ],
        [
         "20",
         "1",
         "30",
         "0.09208204605020379",
         "1",
         "78.94628004586576"
        ],
        [
         "21",
         "1",
         "31",
         "0.1552619207123711",
         "1",
         "86.04141163250834"
        ],
        [
         "22",
         "1",
         "32",
         "0.16605260481831252",
         "1",
         "87.2923623153922"
        ],
        [
         "23",
         "1",
         "33",
         "0.18752817660736218",
         "1",
         "89.81566631913314"
        ],
        [
         "24",
         "1",
         "34",
         "0.21978758915174998",
         "1",
         "93.68960702010239"
        ],
        [
         "25",
         "1",
         "35",
         "0.21986540782432448",
         "1",
         "93.6990725152542"
        ],
        [
         "26",
         "1",
         "36",
         "0.33638065069457074",
         "3",
         "192.84621059918956"
        ],
        [
         "27",
         "1",
         "37",
         "0.46540402759800653",
         "2",
         "180.38718270931318"
        ],
        [
         "28",
         "2",
         "44",
         "0.003382054967889488",
         "1",
         "69.65349546648348"
        ],
        [
         "29",
         "2",
         "45",
         "0.015747687334100962",
         "1",
         "70.90188575976656"
        ],
        [
         "30",
         "2",
         "46",
         "0.01575149117054019",
         "1",
         "70.90227213380135"
        ],
        [
         "31",
         "2",
         "47",
         "0.018381257495357496",
         "1",
         "71.16973638566684"
        ],
        [
         "32",
         "2",
         "48",
         "0.03551242147232964",
         "1",
         "72.92900355784016"
        ],
        [
         "33",
         "2",
         "49",
         "0.03551252812194943",
         "1",
         "72.92901460138219"
        ],
        [
         "34",
         "2",
         "50",
         "0.03551261699663259",
         "1",
         "72.92902380433476"
        ],
        [
         "35",
         "2",
         "51",
         "0.058685090886183865",
         "1",
         "75.35532539055673"
        ],
        [
         "36",
         "2",
         "52",
         "0.07531736571670829",
         "1",
         "77.1298221483114"
        ],
        [
         "37",
         "2",
         "53",
         "0.4010459590361299",
         "16",
         "360.2319517375858"
        ],
        [
         "38",
         "2",
         "54",
         "0.10169691809794455",
         "1",
         "80.00063412053173"
        ],
        [
         "39",
         "2",
         "55",
         "0.1335441654117117",
         "1",
         "83.55819889717618"
        ],
        [
         "40",
         "2",
         "56",
         "0.1335443787109513",
         "1",
         "83.55822305877585"
        ],
        [
         "41",
         "2",
         "57",
         "0.1538623222019748",
         "1",
         "85.87998992582388"
        ],
        [
         "42",
         "2",
         "58",
         "0.17694784110152278",
         "7",
         "239.53689906482904"
        ],
        [
         "43",
         "2",
         "59",
         "0.16463437817432594",
         "1",
         "87.12730157980003"
        ],
        [
         "44",
         "2",
         "60",
         "0.16558535505906957",
         "1",
         "87.23795969114495"
        ],
        [
         "45",
         "2",
         "61",
         "0.184688346081429",
         "1",
         "89.4794335654991"
        ],
        [
         "46",
         "2",
         "62",
         "0.18557833715858857",
         "1",
         "89.58472367706015"
        ],
        [
         "47",
         "2",
         "63",
         "0.19854787299686907",
         "1",
         "91.12775248204818"
        ],
        [
         "48",
         "2",
         "64",
         "0.20614418769081727",
         "1",
         "92.03902765244997"
        ],
        [
         "49",
         "2",
         "65",
         "0.232214811673391",
         "1",
         "95.20849659925307"
        ]
       ],
       "shape": {
        "columns": 5,
        "rows": 49689
       }
      },
      "text/html": [
       "<div>\n",
       "<style scoped>\n",
       "    .dataframe tbody tr th:only-of-type {\n",
       "        vertical-align: middle;\n",
       "    }\n",
       "\n",
       "    .dataframe tbody tr th {\n",
       "        vertical-align: top;\n",
       "    }\n",
       "\n",
       "    .dataframe thead th {\n",
       "        text-align: right;\n",
       "    }\n",
       "</style>\n",
       "<table border=\"1\" class=\"dataframe\">\n",
       "  <thead>\n",
       "    <tr style=\"text-align: right;\">\n",
       "      <th></th>\n",
       "      <th>u</th>\n",
       "      <th>i</th>\n",
       "      <th>t_max</th>\n",
       "      <th>t_count</th>\n",
       "      <th>rating</th>\n",
       "    </tr>\n",
       "  </thead>\n",
       "  <tbody>\n",
       "    <tr>\n",
       "      <th>0</th>\n",
       "      <td>0</td>\n",
       "      <td>0</td>\n",
       "      <td>0.133800</td>\n",
       "      <td>1</td>\n",
       "      <td>83.587130</td>\n",
       "    </tr>\n",
       "    <tr>\n",
       "      <th>1</th>\n",
       "      <td>0</td>\n",
       "      <td>1</td>\n",
       "      <td>0.144325</td>\n",
       "      <td>1</td>\n",
       "      <td>84.785132</td>\n",
       "    </tr>\n",
       "    <tr>\n",
       "      <th>2</th>\n",
       "      <td>0</td>\n",
       "      <td>2</td>\n",
       "      <td>0.144646</td>\n",
       "      <td>1</td>\n",
       "      <td>84.821868</td>\n",
       "    </tr>\n",
       "    <tr>\n",
       "      <th>3</th>\n",
       "      <td>0</td>\n",
       "      <td>3</td>\n",
       "      <td>0.196436</td>\n",
       "      <td>2</td>\n",
       "      <td>137.686485</td>\n",
       "    </tr>\n",
       "    <tr>\n",
       "      <th>4</th>\n",
       "      <td>0</td>\n",
       "      <td>4</td>\n",
       "      <td>0.247164</td>\n",
       "      <td>1</td>\n",
       "      <td>97.055006</td>\n",
       "    </tr>\n",
       "    <tr>\n",
       "      <th>...</th>\n",
       "      <td>...</td>\n",
       "      <td>...</td>\n",
       "      <td>...</td>\n",
       "      <td>...</td>\n",
       "      <td>...</td>\n",
       "    </tr>\n",
       "    <tr>\n",
       "      <th>49684</th>\n",
       "      <td>7835</td>\n",
       "      <td>4820</td>\n",
       "      <td>0.992263</td>\n",
       "      <td>1</td>\n",
       "      <td>211.331195</td>\n",
       "    </tr>\n",
       "    <tr>\n",
       "      <th>49685</th>\n",
       "      <td>7836</td>\n",
       "      <td>3471</td>\n",
       "      <td>0.995048</td>\n",
       "      <td>1</td>\n",
       "      <td>211.820981</td>\n",
       "    </tr>\n",
       "    <tr>\n",
       "      <th>49686</th>\n",
       "      <td>7836</td>\n",
       "      <td>14550</td>\n",
       "      <td>0.995043</td>\n",
       "      <td>1</td>\n",
       "      <td>211.820046</td>\n",
       "    </tr>\n",
       "    <tr>\n",
       "      <th>49687</th>\n",
       "      <td>7837</td>\n",
       "      <td>88</td>\n",
       "      <td>0.996661</td>\n",
       "      <td>1</td>\n",
       "      <td>212.104870</td>\n",
       "    </tr>\n",
       "    <tr>\n",
       "      <th>49688</th>\n",
       "      <td>7837</td>\n",
       "      <td>2191</td>\n",
       "      <td>0.996661</td>\n",
       "      <td>1</td>\n",
       "      <td>212.104848</td>\n",
       "    </tr>\n",
       "  </tbody>\n",
       "</table>\n",
       "<p>49689 rows × 5 columns</p>\n",
       "</div>"
      ],
      "text/plain": [
       "          u      i     t_max  t_count      rating\n",
       "0         0      0  0.133800        1   83.587130\n",
       "1         0      1  0.144325        1   84.785132\n",
       "2         0      2  0.144646        1   84.821868\n",
       "3         0      3  0.196436        2  137.686485\n",
       "4         0      4  0.247164        1   97.055006\n",
       "...     ...    ...       ...      ...         ...\n",
       "49684  7835   4820  0.992263        1  211.331195\n",
       "49685  7836   3471  0.995048        1  211.820981\n",
       "49686  7836  14550  0.995043        1  211.820046\n",
       "49687  7837     88  0.996661        1  212.104870\n",
       "49688  7837   2191  0.996661        1  212.104848\n",
       "\n",
       "[49689 rows x 5 columns]"
      ]
     },
     "execution_count": 12,
     "metadata": {},
     "output_type": "execute_result"
    }
   ],
   "source": [
    "train_df_rating"
   ]
  },
  {
   "cell_type": "code",
   "execution_count": 13,
   "id": "2f779999",
   "metadata": {},
   "outputs": [],
   "source": [
    "train_matrix = create_data_matrix(train_df_rating, n_users, n_items)\n",
    "user_similarity = cosine_similarity(train_matrix)\n",
    "train_prediction = user_based_predict(train_matrix, user_similarity)"
   ]
  },
  {
   "cell_type": "code",
   "execution_count": 14,
   "id": "5fbfdbbe",
   "metadata": {},
   "outputs": [
    {
     "name": "stdout",
     "output_type": "stream",
     "text": [
      "MAP@10: 0.1681\n"
     ]
    },
    {
     "data": {
      "text/plain": [
       "0.16811814107736978"
      ]
     },
     "execution_count": 14,
     "metadata": {},
     "output_type": "execute_result"
    }
   ],
   "source": [
    "print_map_10(test_df, train_prediction)"
   ]
  },
  {
   "cell_type": "code",
   "execution_count": 15,
   "id": "38db1b71",
   "metadata": {},
   "outputs": [],
   "source": [
    "item_similarity = cosine_similarity(train_matrix.T)\n",
    "train_item_prediction = item_based_predict(train_matrix, item_similarity)"
   ]
  },
  {
   "cell_type": "code",
   "execution_count": 16,
   "id": "8824569e",
   "metadata": {},
   "outputs": [
    {
     "name": "stdout",
     "output_type": "stream",
     "text": [
      "MAP@10: 0.1472\n"
     ]
    },
    {
     "data": {
      "text/plain": [
       "0.14724122267890646"
      ]
     },
     "execution_count": 16,
     "metadata": {},
     "output_type": "execute_result"
    }
   ],
   "source": [
    "print_map_10(test_df, train_item_prediction)"
   ]
  },
  {
   "cell_type": "markdown",
   "id": "6b812df5",
   "metadata": {},
   "source": [
    "# 3. Add embeddings"
   ]
  },
  {
   "cell_type": "code",
   "execution_count": null,
   "id": "502277c9",
   "metadata": {},
   "outputs": [],
   "source": [
    "def get_book_similarity_matrix(vector_df):\n",
    "    book_matrix = np.vstack(vector_df.vector.to_list())\n",
    "    book_similarity = cosine_similarity(book_matrix)\n",
    "    return book_similarity\n",
    "\n",
    "\n",
    "def fast_recommend_to_df(interactions_df, similarity_matrix, top_n=10):\n",
    "    user_ids = interactions_df['u'].unique()\n",
    "    num_users = len(user_ids)\n",
    "    num_items = similarity_matrix.shape[0]\n",
    "\n",
    "    user_id_to_index = {uid: idx for idx, uid in enumerate(user_ids)}\n",
    "    index_to_user_id = {idx: uid for uid, idx in user_id_to_index.items()}\n",
    "\n",
    "    interactions_df = interactions_df.sort_values([\"u\", \"t_max\"]).reset_index(drop=True)\n",
    "    interactions_df[\"pct_rank\"] = interactions_df.groupby(\"u\")[\"t_max\"].rank(pct=True, method='dense')\n",
    "\n",
    "    interaction_matrix = np.zeros((num_users, num_items))\n",
    "    for _, row in interactions_df.iterrows():\n",
    "        u_idx = user_id_to_index[row['u']]\n",
    "        i_idx = int(row['i'])\n",
    "        if row['pct_rank'] < 0.7:\n",
    "            interaction_matrix[u_idx, i_idx] = 0\n",
    "        else:\n",
    "            interaction_matrix[u_idx, i_idx] = np.exp(2 * row[\"t_max\"])\n",
    "\n",
    "    score_matrix = interaction_matrix @ similarity_matrix\n",
    "\n",
    "    records = []\n",
    "    for u_idx in range(num_users):\n",
    "        top_items = np.argpartition(score_matrix[u_idx], -top_n)[-top_n:]\n",
    "        top_items_sorted = top_items[np.argsort(score_matrix[u_idx][top_items])[::-1]]\n",
    "        records.append({\n",
    "            \"user_id\": index_to_user_id[u_idx],\n",
    "            \"recommendation\": \" \".join([str(x) for x in top_items_sorted])\n",
    "        })\n",
    "\n",
    "    recommendations_df = pd.DataFrame(records)\n",
    "    return recommendations_df, score_matrix\n",
    "\n",
    "\n",
    "def row_min_max_normalize(score_matrix):\n",
    "    min_vals = np.min(score_matrix, axis=1, keepdims=True)\n",
    "    max_vals = np.max(score_matrix, axis=1, keepdims=True)\n",
    "\n",
    "    denom = np.where(max_vals - min_vals == 0, 1, max_vals - min_vals)\n",
    "    normalized = (score_matrix - min_vals) / denom\n",
    "    return normalized"
   ]
  },
  {
   "cell_type": "code",
   "execution_count": 18,
   "id": "3033147a",
   "metadata": {},
   "outputs": [],
   "source": [
    "semantic_book_similarity = get_book_similarity_matrix(semantic_tags)\n",
    "tone_book_similarity = get_book_similarity_matrix(tone_mood)\n",
    "subgenre_book_similarity = get_book_similarity_matrix(subgenre)\n",
    "summary_book_similarity = get_book_similarity_matrix(summary)\n",
    "target_audience_book_similarity = get_book_similarity_matrix(target_audience)\n",
    "themes_book_similarity = get_book_similarity_matrix(themes)"
   ]
  },
  {
   "cell_type": "code",
   "execution_count": 19,
   "id": "488cd86e",
   "metadata": {},
   "outputs": [],
   "source": [
    "semantic_recommend_df, semantic_score_matrix = fast_recommend_to_df(train_df_rating, semantic_book_similarity)\n",
    "tone_recommend_df, tone_score_matrix = fast_recommend_to_df(train_df_rating, tone_book_similarity)\n",
    "subgenre_recommend_df, subgenre_score_matrix = fast_recommend_to_df(train_df_rating, subgenre_book_similarity)\n",
    "summary_recommend_df, summary_score_matrix = fast_recommend_to_df(train_df_rating, summary_book_similarity)\n",
    "target_audience_recommend_df, target_audience_score_matrix = fast_recommend_to_df(train_df_rating, target_audience_book_similarity)\n",
    "themes_recommend_df, themes_score_matrix = fast_recommend_to_df(train_df_rating, themes_book_similarity)"
   ]
  },
  {
   "cell_type": "code",
   "execution_count": 20,
   "id": "bc051cbc",
   "metadata": {},
   "outputs": [],
   "source": [
    "score_cf_normalized = row_min_max_normalize(train_prediction)\n",
    "score_semantic_normalized = row_min_max_normalize(semantic_score_matrix)\n",
    "score_tone_normalized = row_min_max_normalize(tone_score_matrix)\n",
    "score_subgenre_normalized = row_min_max_normalize(subgenre_score_matrix)\n",
    "score_summary_normalized = row_min_max_normalize(summary_score_matrix)\n",
    "score_target_audience_normalized = row_min_max_normalize(target_audience_score_matrix)\n",
    "score_themes_normalized = row_min_max_normalize(themes_score_matrix)"
   ]
  },
  {
   "cell_type": "code",
   "execution_count": 29,
   "id": "fd82a968",
   "metadata": {},
   "outputs": [],
   "source": [
    "score_hybrid = 0.92 * np.log1p(score_cf_normalized) + \\\n",
    "      0.2 * score_semantic_normalized + \\\n",
    "      0.0 * score_tone_normalized + \\\n",
    "      0.0 * np.log1p(score_subgenre_normalized) + \\\n",
    "      0.8 * np.log1p(score_summary_normalized) + \\\n",
    "      0.0 * np.log1p(score_target_audience_normalized) + \\\n",
    "      0.01 * np.log1p(score_themes_normalized)"
   ]
  },
  {
   "cell_type": "code",
   "execution_count": 30,
   "id": "e5ad4777",
   "metadata": {},
   "outputs": [
    {
     "name": "stdout",
     "output_type": "stream",
     "text": [
      "MAP@10: 0.1772\n"
     ]
    },
    {
     "data": {
      "text/plain": [
       "0.17716294016330694"
      ]
     },
     "execution_count": 30,
     "metadata": {},
     "output_type": "execute_result"
    }
   ],
   "source": [
    "print_map_10(test_df, score_hybrid)"
   ]
  },
  {
   "cell_type": "code",
   "execution_count": 396,
   "id": "9a937fdd",
   "metadata": {},
   "outputs": [],
   "source": [
    "results_score_hybrid = pd.DataFrame(columns=[\"user_id\", \"recommendation\"])\n",
    "results_score_hybrid[\"user_id\"] = np.arange(n_users)\n",
    "results_score_hybrid[\"recommendation\"] = [\n",
    "    \" \".join(map(str, np.argsort(score_hybrid[i, :])[-10:][::-1]))\n",
    "    for i in range(n_users)\n",
    "]"
   ]
  },
  {
   "cell_type": "code",
   "execution_count": null,
   "id": "4a083fb1",
   "metadata": {},
   "outputs": [],
   "source": [
    "print_map_10_from_csv(test_df, results_score_hybrid)"
   ]
  },
  {
   "cell_type": "markdown",
   "id": "33853401",
   "metadata": {},
   "source": [
    "### Use full data"
   ]
  },
  {
   "cell_type": "code",
   "execution_count": 31,
   "id": "889ec8b5",
   "metadata": {},
   "outputs": [],
   "source": [
    "full_data_with_rating = add_rating(interactions)"
   ]
  },
  {
   "cell_type": "code",
   "execution_count": 32,
   "id": "49b6847f",
   "metadata": {},
   "outputs": [],
   "source": [
    "full_matrix = create_data_matrix(full_data_with_rating, n_users, n_items)\n",
    "user_similarity = cosine_similarity(full_matrix)\n",
    "full_prediction = user_based_predict(full_matrix, user_similarity)"
   ]
  },
  {
   "cell_type": "code",
   "execution_count": 33,
   "id": "7bc48cc5",
   "metadata": {},
   "outputs": [],
   "source": [
    "_, semantic_score_matrix_full = fast_recommend_to_df(full_data_with_rating, semantic_book_similarity)\n",
    "# _, tone_score_matrix_full = fast_recommend_to_df(full_data_with_rating, tone_book_similarity)\n",
    "# _, subgenre_score_matrix_full = fast_recommend_to_df(full_data_with_rating, subgenre_book_similarity)\n",
    "_, summary_score_matrix_full = fast_recommend_to_df(full_data_with_rating, summary_book_similarity)\n",
    "# _, target_audience_score_matrix_full = fast_recommend_to_df(full_data_with_rating, target_audience_book_similarity)\n",
    "_, themes_score_matrix_full = fast_recommend_to_df(full_data_with_rating, themes_book_similarity)"
   ]
  },
  {
   "cell_type": "code",
   "execution_count": 34,
   "id": "60881582",
   "metadata": {},
   "outputs": [],
   "source": [
    "score_cf_normalized_full = row_min_max_normalize(full_prediction)\n",
    "score_semantic_normalized_full = row_min_max_normalize(semantic_score_matrix_full)\n",
    "# score_tone_normalized_full = row_min_max_normalize(tone_score_matrix_full)\n",
    "# score_subgenre_normalized_full = row_min_max_normalize(subgenre_score_matrix_full)\n",
    "score_summary_normalized_full = row_min_max_normalize(summary_score_matrix_full)\n",
    "# score_target_audience_normalized_full = row_min_max_normalize(target_audience_score_matrix_full)\n",
    "score_themes_normalized_full = row_min_max_normalize(themes_score_matrix_full)"
   ]
  },
  {
   "cell_type": "code",
   "execution_count": 35,
   "id": "5c0f6232",
   "metadata": {},
   "outputs": [],
   "source": [
    "# score_hybrid_full = 0.92 * np.log(score_cf_normalized_full + 1) + \\\n",
    "#       0.2 * score_semantic_normalized_full + \\\n",
    "#       0.746 * np.log(score_summary_normalized_full + 1)\n",
    "\n",
    "score_hybrid_full = 0.92 * np.log1p(score_cf_normalized_full) + \\\n",
    "      0.2 * score_semantic_normalized_full + \\\n",
    "      0.8 * np.log1p(score_summary_normalized_full) + \\\n",
    "      0.01 * np.log1p(score_themes_normalized_full)"
   ]
  },
  {
   "cell_type": "code",
   "execution_count": 36,
   "id": "86b01942",
   "metadata": {},
   "outputs": [],
   "source": [
    "np.save(\"score_cf_normalized.npy\", score_cf_normalized_full)\n",
    "np.save(\"score_semantic_normalized.npy\", score_semantic_normalized_full)\n",
    "np.save(\"score_hybrid_full.npy\", score_hybrid_full)"
   ]
  },
  {
   "cell_type": "code",
   "execution_count": 277,
   "id": "e1896d99",
   "metadata": {},
   "outputs": [],
   "source": [
    "results = pd.DataFrame(columns=[\"user_id\", \"recommendation\"])\n",
    "results[\"user_id\"] = np.arange(n_users)\n",
    "results[\"recommendation\"] = [\n",
    "    \" \".join(map(str, np.argsort(score_hybrid_full[i, :])[-10:][::-1]))\n",
    "    for i in range(n_users)\n",
    "]\n",
    "results.to_csv(\"test_sem_sum_cf_the_92208001.csv\", index=False)"
   ]
  },
  {
   "cell_type": "markdown",
   "id": "6937b288",
   "metadata": {},
   "source": [
    "# 4. Add sequence"
   ]
  },
  {
   "cell_type": "code",
   "execution_count": 37,
   "id": "6aaacbe0",
   "metadata": {},
   "outputs": [
    {
     "name": "stdout",
     "output_type": "stream",
     "text": [
      "Using device: mps\n"
     ]
    }
   ],
   "source": [
    "import torch\n",
    "import torch.nn as nn\n",
    "device = torch.device(\"mps\" if torch.backends.mps.is_available() else \"cpu\")\n",
    "print(f\"Using device: {device}\")\n",
    "\n",
    "MAX_INPUT_LEN = 10\n",
    "PREDICT_LEN = 5\n",
    "BATCH_SIZE = 64\n",
    "EPOCHS = 1000\n",
    "EMB_DIM = 64\n",
    "HIDDEN_DIM = 128\n",
    "VOCAB_SIZE = 15298"
   ]
  },
  {
   "cell_type": "code",
   "execution_count": 38,
   "id": "7c3219ad",
   "metadata": {},
   "outputs": [],
   "source": [
    "class TransformerPredictor(nn.Module):\n",
    "    def __init__(\n",
    "        self, vocab_size, emb_dim, hidden_dim, output_len, max_len=MAX_INPUT_LEN\n",
    "    ):\n",
    "        super().__init__()\n",
    "        self.embedding = nn.Embedding(vocab_size, emb_dim, padding_idx=0)\n",
    "        self.positional_encoding = nn.Parameter(torch.randn(1, max_len, emb_dim))\n",
    "\n",
    "        encoder_layer = nn.TransformerEncoderLayer(\n",
    "            d_model=emb_dim, nhead=4, dim_feedforward=hidden_dim\n",
    "        )\n",
    "        self.encoder = nn.TransformerEncoder(encoder_layer, num_layers=2)\n",
    "        self.output_layer = nn.Sequential(\n",
    "            nn.Linear(emb_dim, output_len), nn.ReLU()  # 保证 offset ≥ 0\n",
    "        )\n",
    "\n",
    "    def forward(self, x):\n",
    "        pad_mask = x == 0\n",
    "        seq_len = x.size(1)\n",
    "        emb = self.embedding(x) + self.positional_encoding[:, :seq_len, :]\n",
    "        emb = emb.permute(1, 0, 2)\n",
    "        encoded = self.encoder(emb, src_key_padding_mask=pad_mask)\n",
    "        pooled = encoded[-1]\n",
    "        return self.output_layer(pooled)"
   ]
  },
  {
   "cell_type": "code",
   "execution_count": null,
   "id": "a1e71480",
   "metadata": {},
   "outputs": [],
   "source": [
    "checkpoint = torch.load(\"transformer_checkpoint.pt\", map_location=device)\n",
    "model = TransformerPredictor(\n",
    "    vocab_size=VOCAB_SIZE,\n",
    "    emb_dim=EMB_DIM,\n",
    "    hidden_dim=HIDDEN_DIM,\n",
    "    output_len=PREDICT_LEN\n",
    ")\n",
    "model.load_state_dict(checkpoint)\n",
    "model.to(device)\n",
    "model.eval()"
   ]
  },
  {
   "cell_type": "code",
   "execution_count": 40,
   "id": "2624fa56",
   "metadata": {},
   "outputs": [
    {
     "data": {
      "application/vnd.microsoft.datawrangler.viewer.v0+json": {
       "columns": [
        {
         "name": "u",
         "rawType": "int64",
         "type": "integer"
        },
        {
         "name": "i",
         "rawType": "object",
         "type": "unknown"
        }
       ],
       "ref": "99ece6cc-ef68-4f41-8dec-6ea3fd1a4c9e",
       "rows": [
        [
         "0",
         "[9, 10, 11, 13, 12, 14, 15, 16, 17, 18]"
        ],
        [
         "1",
         "[31, 32, 33, 34, 35, 36, 36, 36, 37, 37]"
        ],
        [
         "2",
         "[81, 81, 81, 81, 83, 84, 81, 81, 85, 86]"
        ],
        [
         "3",
         "[150, 151, 152, 153, 154, 155, 156, 157, 158, 159]"
        ],
        [
         "4",
         "[195, 196, 197, 198, 199, 200, 201, 202, 203, 204]"
        ],
        [
         "5",
         "[212, 213, 214, 215, 216, 217, 218, 219, 220, 221]"
        ],
        [
         "6",
         "[229, 230, 231, 229, 229, 230]"
        ],
        [
         "7",
         "[237, 238, 239, 240, 241, 242, 243, 244, 245, 246]"
        ],
        [
         "8",
         "[256, 257]"
        ],
        [
         "9",
         "[262, 262, 263, 264, 264, 264, 264, 262, 262, 261]"
        ],
        [
         "10",
         "[268, 269, 270, 271, 272]"
        ],
        [
         "11",
         "[277, 278, 279]"
        ],
        [
         "12",
         "[284, 285, 286, 287, 288, 285, 289, 290, 291, 292]"
        ],
        [
         "13",
         "[311, 321, 313, 328, 329, 330, 319, 331, 332, 333]"
        ],
        [
         "14",
         "[340, 341, 342, 343, 344, 345, 346, 317, 347, 348]"
        ],
        [
         "15",
         "[354, 355]"
        ],
        [
         "16",
         "[359, 360]"
        ],
        [
         "17",
         "[363, 364]"
        ],
        [
         "18",
         "[367, 367, 367, 367, 368, 368]"
        ],
        [
         "19",
         "[371, 378, 379, 380, 381, 380, 377, 382, 377, 383]"
        ],
        [
         "20",
         "[397, 396, 395, 394, 399, 401, 400, 398, 397, 396]"
        ],
        [
         "21",
         "[403, 404, 405]"
        ],
        [
         "22",
         "[409, 410, 296]"
        ],
        [
         "23",
         "[474, 475, 476, 477, 478, 479, 480, 481, 482, 483]"
        ],
        [
         "24",
         "[535, 530, 535, 537, 536, 525, 526, 538, 529, 533]"
        ],
        [
         "25",
         "[540, 541, 542, 543, 544, 545, 546, 545, 543, 51]"
        ],
        [
         "26",
         "[552, 553, 554, 555, 556]"
        ],
        [
         "27",
         "[571, 562, 566, 565, 564, 562, 571, 572, 565, 564]"
        ],
        [
         "28",
         "[577, 578, 577, 579, 580, 581, 578]"
        ],
        [
         "29",
         "[588, 589, 590, 591, 592, 593, 83, 594, 595, 596]"
        ],
        [
         "30",
         "[610, 621, 622, 623, 623, 623, 623, 608, 608, 624]"
        ],
        [
         "31",
         "[169, 634]"
        ],
        [
         "32",
         "[636, 637, 638, 638, 639, 640, 641, 638, 642, 642]"
        ],
        [
         "33",
         "[648, 649]"
        ],
        [
         "34",
         "[653, 654, 466, 655, 656, 657, 658, 659]"
        ],
        [
         "35",
         "[665, 666]"
        ],
        [
         "36",
         "[669, 669, 669]"
        ],
        [
         "37",
         "[670, 671]"
        ],
        [
         "38",
         "[692, 693, 692, 694, 695, 696, 697, 698, 699, 700]"
        ],
        [
         "39",
         "[718, 719, 720, 721, 720, 718, 719, 721, 719]"
        ],
        [
         "40",
         "[724, 725, 726, 584, 727, 728, 729, 730, 730, 730]"
        ],
        [
         "41",
         "[809, 810, 778, 811, 812, 813, 814, 815, 488, 464]"
        ],
        [
         "42",
         "[874, 875, 876, 877, 878, 879, 880, 881, 876, 882]"
        ],
        [
         "43",
         "[899, 899, 898, 897, 898, 898, 897, 897, 897, 898]"
        ],
        [
         "44",
         "[900, 901, 902, 903, 904]"
        ],
        [
         "45",
         "[962, 963, 939, 964, 965, 966, 967, 968, 969, 970]"
        ],
        [
         "46",
         "[1001, 1004, 1005, 1006, 1007, 1008, 1009, 1010, 1011, 1012]"
        ],
        [
         "47",
         "[1069, 1037, 1070, 1071, 1072, 970, 1073, 1074, 1075, 1076]"
        ],
        [
         "48",
         "[1106, 1107, 1108, 1109, 1110, 1111, 1112, 1113]"
        ],
        [
         "49",
         "[1119, 1120, 1121, 1122, 1123]"
        ]
       ],
       "shape": {
        "columns": 1,
        "rows": 7838
       }
      },
      "text/plain": [
       "u\n",
       "0                 [9, 10, 11, 13, 12, 14, 15, 16, 17, 18]\n",
       "1                [31, 32, 33, 34, 35, 36, 36, 36, 37, 37]\n",
       "2                [81, 81, 81, 81, 83, 84, 81, 81, 85, 86]\n",
       "3       [150, 151, 152, 153, 154, 155, 156, 157, 158, ...\n",
       "4       [195, 196, 197, 198, 199, 200, 201, 202, 203, ...\n",
       "                              ...                        \n",
       "7833                                          [975, 7322]\n",
       "7834               [15276, 13891, 7128, 7128, 7128, 7128]\n",
       "7835                                         [4820, 3055]\n",
       "7836                                        [14550, 3471]\n",
       "7837                                           [2191, 88]\n",
       "Name: i, Length: 7838, dtype: object"
      ]
     },
     "execution_count": 40,
     "metadata": {},
     "output_type": "execute_result"
    }
   ],
   "source": [
    "train_user_history = train_df.groupby('u')['i'].apply(list).apply(lambda x: x[-10:] if len(x) >= 10 else x)\n",
    "train_user_history"
   ]
  },
  {
   "cell_type": "code",
   "execution_count": 41,
   "id": "a49e4d74",
   "metadata": {},
   "outputs": [],
   "source": [
    "def get_pred(history):\n",
    "    history_tensor = torch.tensor([history], dtype=torch.long).to(device)\n",
    "    with torch.no_grad():\n",
    "        offset_pred = model(history_tensor)\n",
    "        base = history_tensor[0, -1]\n",
    "        pred_item_ids = (offset_pred + base).round()\n",
    "    return [int(x) for x in pred_item_ids.cpu().tolist()[0]]"
   ]
  },
  {
   "cell_type": "code",
   "execution_count": 42,
   "id": "6242e63e",
   "metadata": {},
   "outputs": [
    {
     "data": {
      "text/plain": [
       "[19, 20, 21, 22, 23]"
      ]
     },
     "execution_count": 42,
     "metadata": {},
     "output_type": "execute_result"
    }
   ],
   "source": [
    "get_pred([9, 10, 11, 13, 12, 14, 15, 16, 17, 18])"
   ]
  },
  {
   "cell_type": "code",
   "execution_count": 301,
   "id": "a0394767",
   "metadata": {},
   "outputs": [],
   "source": [
    "results_train = pd.DataFrame(columns=[\"user_id\", \"recommendation\"])\n",
    "results_train[\"user_id\"] = np.arange(n_users)"
   ]
  },
  {
   "cell_type": "code",
   "execution_count": null,
   "id": "0cafe2ef",
   "metadata": {},
   "outputs": [
    {
     "name": "stderr",
     "output_type": "stream",
     "text": [
      "7838it [00:21, 368.67it/s]\n"
     ]
    }
   ],
   "source": [
    "for idx, row in tqdm(results_train.iterrows()):\n",
    "    current_user = row[\"user_id\"]\n",
    "    if current_user < 1200:\n",
    "        pred = get_pred(train_user_history.iloc[current_user])[:3]\n",
    "        from_scores = np.argsort(score_hybrid[current_user, :])[-7:][::-1].tolist()\n",
    "        final = pred + from_scores\n",
    "    else:\n",
    "        final = np.argsort(score_hybrid[current_user, :])[-10:][::-1].tolist()\n",
    "    results_train.at[idx, \"recommendation\"] = \" \".join(str(x) for x in final)"
   ]
  },
  {
   "cell_type": "code",
   "execution_count": 303,
   "id": "2bd84123",
   "metadata": {},
   "outputs": [
    {
     "name": "stdout",
     "output_type": "stream",
     "text": [
      "MAP@10: 0.1488\n"
     ]
    },
    {
     "data": {
      "text/plain": [
       "0.14883691439656957"
      ]
     },
     "execution_count": 303,
     "metadata": {},
     "output_type": "execute_result"
    }
   ],
   "source": [
    "print_map_10_from_csv(test_df, results_train)"
   ]
  },
  {
   "cell_type": "code",
   "execution_count": 295,
   "id": "e58ef2d6",
   "metadata": {},
   "outputs": [
    {
     "data": {
      "application/vnd.microsoft.datawrangler.viewer.v0+json": {
       "columns": [
        {
         "name": "index",
         "rawType": "int64",
         "type": "integer"
        },
        {
         "name": "user_id",
         "rawType": "int64",
         "type": "integer"
        },
        {
         "name": "recommendation",
         "rawType": "object",
         "type": "string"
        }
       ],
       "ref": "6f15faea-5276-45f2-80a8-a112db5a80d7",
       "rows": [
        [
         "0",
         "0",
         "19 20 13 12 15 17 16 14 11 18"
        ],
        [
         "1",
         "1",
         "38 39 37 36 29 34 33 35 38 5314"
        ],
        [
         "2",
         "2",
         "87 88 53 58 81 52 76 77 82 54"
        ],
        [
         "3",
         "3",
         "160 161 132 155 156 152 153 149 158 159"
        ],
        [
         "4",
         "4",
         "205 206 202 203 201 204 200 197 199 193"
        ],
        [
         "5",
         "5",
         "222 223 221 220 219 218 216 213 217 215"
        ],
        [
         "6",
         "6",
         "232 233 230 231 10867 3859 1269 229 10870 9826"
        ],
        [
         "7",
         "7",
         "247 248 244 246 245 243 238 240 239 241"
        ],
        [
         "8",
         "8",
         "258 258 257 6094 5920 256 3010 10446 10502 3011"
        ],
        [
         "9",
         "9",
         "263 264 264 261 262 263 716 8319 7376 10466"
        ],
        [
         "10",
         "10",
         "273 275 272 271 270 268 269 5339 1668 5794"
        ],
        [
         "11",
         "11",
         "280 281 279 277 11237 278 2388 2382 2386 2384"
        ],
        [
         "12",
         "12",
         "293 294 287 292 289 291 290 285 8504 1481"
        ],
        [
         "13",
         "13",
         "334 335 311 332 319 333 303 328 300 307"
        ],
        [
         "14",
         "14",
         "353 355 348 344 347 342 346 343 317 345"
        ],
        [
         "15",
         "15",
         "356 357 355 354 14086 2039 6383 13691 8138 9139"
        ],
        [
         "16",
         "16",
         "361 362 360 359 14882 14124 14985 6941 11123 14755"
        ],
        [
         "17",
         "17",
         "365 366 364 363 48 9781 287 8465 612 3101"
        ],
        [
         "18",
         "18",
         "369 370 368 367 5798 950 5442 5462 10621 13198"
        ],
        [
         "19",
         "19",
         "384 385 383 377 380 382 381 373 376 375"
        ],
        [
         "20",
         "20",
         "397 398 396 397 398 395 400 393 401 399"
        ],
        [
         "21",
         "21",
         "406 407 405 404 1323 1166 13187 2820 14122 12426"
        ],
        [
         "22",
         "22",
         "298 300 296 409 410 13571 861 8839 3069 10046"
        ],
        [
         "23",
         "23",
         "484 485 466 476 464 478 462 465 477 163"
        ],
        [
         "24",
         "24",
         "534 535 538 536 529 525 533 526 537 535"
        ],
        [
         "25",
         "25",
         "52 53 543 545 51 544 546 541 8791 3556"
        ],
        [
         "26",
         "26",
         "558 559 556 555 554 552 3401 553 3400 3393"
        ],
        [
         "27",
         "27",
         "565 566 564 565 571 566 572 562 567 563"
        ],
        [
         "28",
         "28",
         "584 584 578 581 3984 577 11466 2277 8953 991"
        ],
        [
         "29",
         "29",
         "597 598 596 595 83 594 593 589 591 587"
        ],
        [
         "30",
         "30",
         "625 626 611 610 608 621 622 623 618 620"
        ],
        [
         "31",
         "31",
         "635 636 634 169 14418 10177 12517 33 2506 1481"
        ],
        [
         "32",
         "32",
         "643 644 642 638 641 639 636 640 12227 2010"
        ],
        [
         "33",
         "33",
         "650 651 649 648 7703 12871 11614 11272 12983 4014"
        ],
        [
         "34",
         "34",
         "660 662 466 659 658 657 656 2289 655 5482"
        ],
        [
         "35",
         "35",
         "667 668 666 665 200 10102 480 4094 7616 3154"
        ],
        [
         "36",
         "36",
         "670 671 669 13698 1749 13266 12281 11787 13265 4697"
        ],
        [
         "37",
         "37",
         "672 672 671 670 672 10088 7094 5868 1136 10091"
        ],
        [
         "38",
         "38",
         "701 702 692 695 697 694 693 698 11366 696"
        ],
        [
         "39",
         "39",
         "720 721 719 721 718 720 1244 13109 11236 3849"
        ],
        [
         "40",
         "40",
         "731 732 730 729 728 727 726 722 724 10345"
        ],
        [
         "41",
         "41",
         "465 466 794 464 611 771 778 476 775 488"
        ],
        [
         "42",
         "42",
         "883 884 879 876 873 881 882 871 878 880"
        ],
        [
         "43",
         "43",
         "899 900 898 897 899 12951 12955 14754 13141 1592"
        ],
        [
         "44",
         "44",
         "905 906 904 903 901 900 902 6484 8113 6599"
        ],
        [
         "45",
         "45",
         "976 977 967 962 966 961 936 963 923 957"
        ],
        [
         "46",
         "46",
         "1014 1015 1011 1001 1003 1008 1012 1007 1010 7065"
        ],
        [
         "47",
         "47",
         "1077 1078 1037 1059 1017 1076 1015 1075 1068 1067"
        ],
        [
         "48",
         "48",
         "1114 1115 1113 1112 1111 1106 1109 1110 1108 1107"
        ],
        [
         "49",
         "49",
         "1124 1125 1123 1122 1119 8021 1121 1120 9393 9394"
        ]
       ],
       "shape": {
        "columns": 2,
        "rows": 7838
       }
      },
      "text/html": [
       "<div>\n",
       "<style scoped>\n",
       "    .dataframe tbody tr th:only-of-type {\n",
       "        vertical-align: middle;\n",
       "    }\n",
       "\n",
       "    .dataframe tbody tr th {\n",
       "        vertical-align: top;\n",
       "    }\n",
       "\n",
       "    .dataframe thead th {\n",
       "        text-align: right;\n",
       "    }\n",
       "</style>\n",
       "<table border=\"1\" class=\"dataframe\">\n",
       "  <thead>\n",
       "    <tr style=\"text-align: right;\">\n",
       "      <th></th>\n",
       "      <th>user_id</th>\n",
       "      <th>recommendation</th>\n",
       "    </tr>\n",
       "  </thead>\n",
       "  <tbody>\n",
       "    <tr>\n",
       "      <th>0</th>\n",
       "      <td>0</td>\n",
       "      <td>19 20 13 12 15 17 16 14 11 18</td>\n",
       "    </tr>\n",
       "    <tr>\n",
       "      <th>1</th>\n",
       "      <td>1</td>\n",
       "      <td>38 39 37 36 29 34 33 35 38 5314</td>\n",
       "    </tr>\n",
       "    <tr>\n",
       "      <th>2</th>\n",
       "      <td>2</td>\n",
       "      <td>87 88 53 58 81 52 76 77 82 54</td>\n",
       "    </tr>\n",
       "    <tr>\n",
       "      <th>3</th>\n",
       "      <td>3</td>\n",
       "      <td>160 161 132 155 156 152 153 149 158 159</td>\n",
       "    </tr>\n",
       "    <tr>\n",
       "      <th>4</th>\n",
       "      <td>4</td>\n",
       "      <td>205 206 202 203 201 204 200 197 199 193</td>\n",
       "    </tr>\n",
       "    <tr>\n",
       "      <th>...</th>\n",
       "      <td>...</td>\n",
       "      <td>...</td>\n",
       "    </tr>\n",
       "    <tr>\n",
       "      <th>7833</th>\n",
       "      <td>7833</td>\n",
       "      <td>7322 975 5956 7318 3833 7306 806 4887 619 9493</td>\n",
       "    </tr>\n",
       "    <tr>\n",
       "      <th>7834</th>\n",
       "      <td>7834</td>\n",
       "      <td>7128 13891 15276 13952 7114 3057 4429 114 7123...</td>\n",
       "    </tr>\n",
       "    <tr>\n",
       "      <th>7835</th>\n",
       "      <td>7835</td>\n",
       "      <td>3055 13952 13414 2102 9054 13388 11058 3053 30...</td>\n",
       "    </tr>\n",
       "    <tr>\n",
       "      <th>7836</th>\n",
       "      <td>7836</td>\n",
       "      <td>3471 14550 3816 6998 611 14557 5787 1289 3960 ...</td>\n",
       "    </tr>\n",
       "    <tr>\n",
       "      <th>7837</th>\n",
       "      <td>7837</td>\n",
       "      <td>88 2191 2667 10542 3289 4901 3377 9118 3475 9669</td>\n",
       "    </tr>\n",
       "  </tbody>\n",
       "</table>\n",
       "<p>7838 rows × 2 columns</p>\n",
       "</div>"
      ],
      "text/plain": [
       "      user_id                                     recommendation\n",
       "0           0                      19 20 13 12 15 17 16 14 11 18\n",
       "1           1                    38 39 37 36 29 34 33 35 38 5314\n",
       "2           2                      87 88 53 58 81 52 76 77 82 54\n",
       "3           3            160 161 132 155 156 152 153 149 158 159\n",
       "4           4            205 206 202 203 201 204 200 197 199 193\n",
       "...       ...                                                ...\n",
       "7833     7833     7322 975 5956 7318 3833 7306 806 4887 619 9493\n",
       "7834     7834  7128 13891 15276 13952 7114 3057 4429 114 7123...\n",
       "7835     7835  3055 13952 13414 2102 9054 13388 11058 3053 30...\n",
       "7836     7836  3471 14550 3816 6998 611 14557 5787 1289 3960 ...\n",
       "7837     7837   88 2191 2667 10542 3289 4901 3377 9118 3475 9669\n",
       "\n",
       "[7838 rows x 2 columns]"
      ]
     },
     "execution_count": 295,
     "metadata": {},
     "output_type": "execute_result"
    }
   ],
   "source": [
    "results_train"
   ]
  },
  {
   "cell_type": "code",
   "execution_count": 43,
   "id": "961abd50",
   "metadata": {},
   "outputs": [
    {
     "data": {
      "application/vnd.microsoft.datawrangler.viewer.v0+json": {
       "columns": [
        {
         "name": "u",
         "rawType": "int64",
         "type": "integer"
        },
        {
         "name": "i",
         "rawType": "object",
         "type": "unknown"
        }
       ],
       "ref": "a2bf6c90-4522-409e-9239-ca6577f61cda",
       "rows": [
        [
         "0",
         "[15, 16, 17, 18, 19, 20, 21, 22, 23, 24]"
        ],
        [
         "1",
         "[30, 31, 32, 33, 34, 35, 36, 37, 38, 39]"
        ],
        [
         "2",
         "[85, 86, 87, 88, 89, 90, 91, 92, 93, 94]"
        ],
        [
         "3",
         "[163, 164, 165, 166, 167, 168, 169, 170, 171, 172]"
        ],
        [
         "4",
         "[198, 199, 200, 201, 202, 203, 204, 205, 206, 207]"
        ],
        [
         "5",
         "[215, 216, 217, 218, 219, 220, 221, 222, 223, 224]"
        ],
        [
         "6",
         "[229, 230, 231, 232]"
        ],
        [
         "7",
         "[241, 242, 243, 244, 245, 246, 247, 248, 249, 250]"
        ],
        [
         "8",
         "[256, 257, 258]"
        ],
        [
         "9",
         "[261, 262, 263, 264]"
        ],
        [
         "10",
         "[268, 269, 270, 271, 272, 273, 274]"
        ],
        [
         "11",
         "[277, 278, 279, 280]"
        ],
        [
         "12",
         "[285, 286, 287, 288, 289, 290, 291, 292, 293, 294]"
        ],
        [
         "13",
         "[327, 328, 329, 330, 331, 332, 333, 334, 335, 336]"
        ],
        [
         "14",
         "[342, 343, 344, 345, 346, 347, 348, 349, 350, 351]"
        ],
        [
         "15",
         "[354, 355, 356]"
        ],
        [
         "16",
         "[359, 360, 361]"
        ],
        [
         "17",
         "[363, 364, 365]"
        ],
        [
         "18",
         "[367, 368]"
        ],
        [
         "19",
         "[380, 381, 382, 383, 384, 385, 386, 387, 388, 389]"
        ],
        [
         "20",
         "[393, 394, 395, 396, 397, 398, 399, 400, 401, 402]"
        ],
        [
         "21",
         "[403, 404, 405, 406]"
        ],
        [
         "22",
         "[296, 409, 410, 411]"
        ],
        [
         "23",
         "[492, 493, 494, 495, 496, 497, 498, 499, 500, 501]"
        ],
        [
         "24",
         "[529, 530, 531, 532, 533, 534, 535, 536, 537, 538]"
        ],
        [
         "25",
         "[540, 541, 542, 543, 544, 545, 546, 547, 548, 549]"
        ],
        [
         "26",
         "[552, 553, 554, 555, 556, 557, 558]"
        ],
        [
         "27",
         "[566, 567, 568, 569, 570, 571, 572, 573, 574, 575]"
        ],
        [
         "28",
         "[323, 577, 578, 579, 580, 581, 582, 583]"
        ],
        [
         "29",
         "[591, 592, 593, 594, 595, 596, 597, 598, 599, 600]"
        ],
        [
         "30",
         "[619, 620, 621, 622, 623, 624, 625, 626, 627, 628]"
        ],
        [
         "31",
         "[169, 634]"
        ],
        [
         "32",
         "[636, 637, 638, 639, 640, 641, 642, 643, 644, 645]"
        ],
        [
         "33",
         "[648, 649, 650]"
        ],
        [
         "34",
         "[466, 653, 654, 655, 656, 657, 658, 659, 660, 661]"
        ],
        [
         "35",
         "[665, 666, 667]"
        ],
        [
         "36",
         "[669]"
        ],
        [
         "37",
         "[670, 671, 672]"
        ],
        [
         "38",
         "[700, 701, 702, 703, 704, 705, 706, 707, 708, 709]"
        ],
        [
         "39",
         "[718, 719, 720, 721]"
        ],
        [
         "40",
         "[724, 725, 726, 727, 728, 729, 730, 731, 732, 733]"
        ],
        [
         "41",
         "[825, 826, 827, 828, 829, 830, 831, 832, 833, 834]"
        ],
        [
         "42",
         "[880, 881, 882, 883, 884, 885, 886, 887, 888, 889]"
        ],
        [
         "43",
         "[897, 898, 899]"
        ],
        [
         "44",
         "[900, 901, 902, 903, 904, 905, 906]"
        ],
        [
         "45",
         "[972, 973, 974, 975, 976, 977, 978, 979, 980, 981]"
        ],
        [
         "46",
         "[1003, 1004, 1005, 1006, 1007, 1008, 1009, 1010, 1011, 1012]"
        ],
        [
         "47",
         "[1078, 1079, 1080, 1081, 1082, 1083, 1084, 1085, 1086, 1087]"
        ],
        [
         "48",
         "[1106, 1107, 1108, 1109, 1110, 1111, 1112, 1113, 1114, 1115]"
        ],
        [
         "49",
         "[1119, 1120, 1121, 1122, 1123, 1124, 1125]"
        ]
       ],
       "shape": {
        "columns": 1,
        "rows": 7838
       }
      },
      "text/plain": [
       "u\n",
       "0                [15, 16, 17, 18, 19, 20, 21, 22, 23, 24]\n",
       "1                [30, 31, 32, 33, 34, 35, 36, 37, 38, 39]\n",
       "2                [85, 86, 87, 88, 89, 90, 91, 92, 93, 94]\n",
       "3       [163, 164, 165, 166, 167, 168, 169, 170, 171, ...\n",
       "4       [198, 199, 200, 201, 202, 203, 204, 205, 206, ...\n",
       "                              ...                        \n",
       "7833                                    [975, 7322, 7760]\n",
       "7834                           [1367, 7128, 13891, 15276]\n",
       "7835                                   [3055, 4820, 6791]\n",
       "7836                                        [3471, 14550]\n",
       "7837                                     [88, 2191, 2209]\n",
       "Name: i, Length: 7838, dtype: object"
      ]
     },
     "execution_count": 43,
     "metadata": {},
     "output_type": "execute_result"
    }
   ],
   "source": [
    "full_user_history = full_data_with_rating.groupby('u')['i'].apply(list).apply(lambda x: x[-10:] if len(x) >= 10 else x)\n",
    "full_user_history"
   ]
  },
  {
   "cell_type": "code",
   "execution_count": 44,
   "id": "d99b838d",
   "metadata": {},
   "outputs": [],
   "source": [
    "results_full = pd.DataFrame(columns=[\"user_id\", \"recommendation\"])\n",
    "results_full[\"user_id\"] = np.arange(n_users)"
   ]
  },
  {
   "cell_type": "code",
   "execution_count": null,
   "id": "f361e5ef",
   "metadata": {},
   "outputs": [
    {
     "name": "stderr",
     "output_type": "stream",
     "text": [
      "7838it [00:02, 2746.67it/s] \n"
     ]
    }
   ],
   "source": [
    "for idx, row in tqdm(results_full.iterrows()):\n",
    "    current_user = row[\"user_id\"]\n",
    "    if current_user < 1200:\n",
    "        pred = get_pred(full_user_history.iloc[current_user])[:2]\n",
    "        from_scores = np.argsort(score_hybrid_full[current_user, :])[-8:][::-1].tolist()\n",
    "        final = pred + from_scores\n",
    "    else:\n",
    "        final = np.argsort(score_hybrid_full[current_user, :])[-10:][::-1].tolist()\n",
    "    results_full.at[idx, \"recommendation\"] = \" \".join(str(x) for x in final)"
   ]
  },
  {
   "cell_type": "code",
   "execution_count": 300,
   "id": "b108b171",
   "metadata": {},
   "outputs": [],
   "source": [
    "results_full.to_csv(\"test_pred_3.csv\", index=False)"
   ]
  },
  {
   "cell_type": "code",
   "execution_count": null,
   "id": "0445ab83",
   "metadata": {},
   "outputs": [],
   "source": []
  }
 ],
 "metadata": {
  "kernelspec": {
   "display_name": "base",
   "language": "python",
   "name": "python3"
  },
  "language_info": {
   "codemirror_mode": {
    "name": "ipython",
    "version": 3
   },
   "file_extension": ".py",
   "mimetype": "text/x-python",
   "name": "python",
   "nbconvert_exporter": "python",
   "pygments_lexer": "ipython3",
   "version": "3.11.8"
  }
 },
 "nbformat": 4,
 "nbformat_minor": 5
}
